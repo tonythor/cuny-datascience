{
 "cells": [
  {
   "cell_type": "code",
   "execution_count": 47,
   "id": "ccf9fa08-8ed6-4df2-99e1-7e63dbd5259e",
   "metadata": {},
   "outputs": [
    {
     "name": "stdout",
     "output_type": "stream",
     "text": [
      "epoch                         99\n",
      "loss     [7.614185282271543e-17]\n",
      "w           [3.9999999964446378]\n",
      "b            [4.999999991626133]\n",
      "dtype: object\n",
      "10\n"
     ]
    }
   ],
   "source": [
    "import numpy as np\n",
    "from sympy import Derivative, Symbol, sympify\n",
    "import pandas as pd\n",
    "# yhat = wx + b\n",
    "# in ML, we don't exactly know what w and B are, we use gradient descent to find\n",
    "\n",
    "# loss = mean squared error (y -yhat **2) / N(samples) \n",
    " \n",
    "# data we use to train\n",
    "x = np.random.randn(10,1)\n",
    "#y = 3*x+np.random.rand() \n",
    "y = 4*x+5\n",
    "\n",
    "\n",
    "#parameters\n",
    "w = 0.0 # -> after gradient descent, this should be 2\n",
    "b = 0.0 # afer gradient descent, this should be whatever B was in y=\n",
    "#hyper parameter\n",
    "\n",
    "learning_rate = 0.1 # how fast our algorithm learns\n",
    "\n",
    "def descend(x, y, w, b, learning_rate): \n",
    "    dldw = 0.0\n",
    "    dldb = 0.0 \n",
    "    N = x.shape[0]\n",
    "    #loss=(y - yhat)**2=(y-(wx+b))**2\n",
    "    for xi,yi in zip(x,y):\n",
    "        dldw += -2*xi*(yi-(w*xi+b))\n",
    "        dldb += -2*(yi-(w*xi+b))\n",
    "    # make an update to W param    \n",
    "    w = w - learning_rate*(1/N)*dldw\n",
    "    b = b - learning_rate*(1/N)*dldb\n",
    "    return w,b\n",
    "\n",
    "\n",
    "df = pd.DataFrame(columns=['epoch', 'loss', 'w', 'b'])\n",
    "\n",
    "for epoch in range(100):\n",
    "    w, b = descend(x,y,w,b,learning_rate)\n",
    "    # work out what prediction is\n",
    "    yhat = w*x+b\n",
    "    # calculate loss, mean squared error\n",
    "    loss = np.divide(np.sum((y-yhat)**2, axis=0), x.shape[0])\n",
    "    # print(f'{epoch} loss is {loss} for parameters w:{w}, b:{b}')\n",
    "    df = \n",
    "print(df)\n",
    "\n",
    "print(x.shape[0])"
   ]
  },
  {
   "cell_type": "code",
   "execution_count": null,
   "id": "85a9dcdc-ef3d-419d-8b6c-c029a2f7380d",
   "metadata": {},
   "outputs": [],
   "source": []
  }
 ],
 "metadata": {
  "kernelspec": {
   "display_name": "Python 3 (ipykernel)",
   "language": "python",
   "name": "python3"
  },
  "language_info": {
   "codemirror_mode": {
    "name": "ipython",
    "version": 3
   },
   "file_extension": ".py",
   "mimetype": "text/x-python",
   "name": "python",
   "nbconvert_exporter": "python",
   "pygments_lexer": "ipython3",
   "version": "3.9.16"
  }
 },
 "nbformat": 4,
 "nbformat_minor": 5
}
