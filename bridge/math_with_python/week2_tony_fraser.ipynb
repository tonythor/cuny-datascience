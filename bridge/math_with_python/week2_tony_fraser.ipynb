{
 "cells": [
  {
   "cell_type": "markdown",
   "id": "5c6cc2b4-d271-471d-86eb-8018e02ebde6",
   "metadata": {},
   "source": [
    "# Week 2 Homework From Tony Fraser\n",
    "Reminder, I am an optional attendee \n",
    "\n",
    "\n",
    "tony.fraser@gmail.com<br/>\n",
    "646-752-2578"
   ]
  },
  {
   "cell_type": "markdown",
   "id": "e56e8d1a-8bd5-4d56-9370-0481e24dab17",
   "metadata": {},
   "source": [
    "## Eigenvectors and Eigenvalues\n"
   ]
  },
  {
   "cell_type": "code",
   "execution_count": 28,
   "id": "43a36ffa-7b2f-47e8-af62-f8181ef78caa",
   "metadata": {},
   "outputs": [
    {
     "data": {
      "text/latex": [
       "$\\displaystyle \\text{Ax =}\\lambda\\text{x}$"
      ],
      "text/plain": [
       "<IPython.core.display.Math object>"
      ]
     },
     "metadata": {},
     "output_type": "display_data"
    },
    {
     "data": {
      "text/latex": [
       "$\\displaystyle \\text{ - roughly... matrix(A) * vector(x) = scaler * vector(x)} $"
      ],
      "text/plain": [
       "<IPython.core.display.Math object>"
      ]
     },
     "metadata": {},
     "output_type": "display_data"
    },
    {
     "data": {
      "text/latex": [
       "$\\displaystyle \\text{ - where A is a matrix, x is a vector, I is the identity matrix}$"
      ],
      "text/plain": [
       "<IPython.core.display.Math object>"
      ]
     },
     "metadata": {},
     "output_type": "display_data"
    },
    {
     "data": {
      "text/latex": [
       "$\\displaystyle 1. \\rightarrow \\space\\text{(A*x)-(}\\lambda\\text{*I*x) = 0}$"
      ],
      "text/plain": [
       "<IPython.core.display.Math object>"
      ]
     },
     "metadata": {},
     "output_type": "display_data"
    },
    {
     "data": {
      "text/latex": [
       "$\\displaystyle \\text{ - where vector x is the eigenvector and scaler }\\lambda\\text{ is the eigenvalue}$"
      ],
      "text/plain": [
       "<IPython.core.display.Math object>"
      ]
     },
     "metadata": {},
     "output_type": "display_data"
    },
    {
     "data": {
      "text/latex": [
       "$\\displaystyle 2. \\rightarrow \\space\\text{(Ax)-(}\\lambda\\text{Ix) = 0}$"
      ],
      "text/plain": [
       "<IPython.core.display.Math object>"
      ]
     },
     "metadata": {},
     "output_type": "display_data"
    },
    {
     "data": {
      "text/latex": [
       "$\\displaystyle 3. \\rightarrow \\space\\text{(A-}\\lambda\\text{I) * x = 0}$"
      ],
      "text/plain": [
       "<IPython.core.display.Math object>"
      ]
     },
     "metadata": {},
     "output_type": "display_data"
    },
    {
     "data": {
      "text/latex": [
       "$\\displaystyle 4. \\rightarrow \\space\\text{eigenvalues: |A-}\\lambda\\text{I}\\space\\text{|= 0}$"
      ],
      "text/plain": [
       "<IPython.core.display.Math object>"
      ]
     },
     "metadata": {},
     "output_type": "display_data"
    }
   ],
   "source": [
    "import sympy as sym\n",
    "import numpy as np\n",
    "import math\n",
    "sym.init_printing()\n",
    "from IPython.display import display,Math\n",
    "display(Math('\\\\text{Ax =}\\\\lambda\\\\text{x}'))\n",
    "display(Math('\\\\text{ - roughly... matrix(A) * vector(x) = scaler * vector(x)} '))\n",
    "display(Math('\\\\text{ - where A is a matrix, x is a vector, I is the identity matrix}'))\n",
    "display(Math('1. \\\\rightarrow \\\\space\\\\text{(A*x)-(}\\\\lambda\\\\text{*I*x) = 0}'))\n",
    "display(Math('\\\\text{ - where vector x is the eigenvector and scaler }\\\\lambda\\\\text{ is the eigenvalue}'))\n",
    "display(Math('2. \\\\rightarrow \\\\space\\\\text{(Ax)-(}\\\\lambda\\\\text{Ix) = 0}'))\n",
    "display(Math('3. \\\\rightarrow \\\\space\\\\text{(A-}\\\\lambda\\\\text{I) * x = 0}'))\n",
    "display(Math('4. \\\\rightarrow \\\\space\\\\text{eigenvalues: |A-}\\\\lambda\\\\text{I}\\\\space\\\\text{|= 0}'))\n",
    "# multiplying a matrix by a vector is the same as multiplying a single number by that vector\n",
    "# count(columns) implies count(eigenvectors) \n",
    "\n"
   ]
  },
  {
   "cell_type": "code",
   "execution_count": 29,
   "id": "aa38587b-de5b-47b3-a5d8-b7af9fc98db7",
   "metadata": {},
   "outputs": [],
   "source": [
    "def find_eigenvalues(a:np.array, debug=True) -> list : \n",
    "    if (a.shape[0] == 2 and a.shape[0] == a.shape[1]):\n",
    "        lambda_ = sym.symbols('lambda')\n",
    "        A = sym.matrices.Matrix(a)\n",
    "        identity = np.identity(a.shape[0])\n",
    "        IDENTITY=sym.matrices.Matrix(identity) \n",
    "\n",
    "        ## subtract lambda from the main diagnal of A\n",
    "        output = A - (IDENTITY * lambda_)\n",
    "        OUTPUT=sym.matrices.Matrix(output)\n",
    "\n",
    "        #todo -> this could be a loop for bigger square matricies \n",
    "        _determinante = (OUTPUT[0,0] * OUTPUT[1,1]) - (OUTPUT[0,1]) * (OUTPUT[1,0]) \n",
    "        _determinante_as_poly = sym.simplify(sym.expand(_determinante))\n",
    "\n",
    "        eigenvalues = sym.solve(_determinante_as_poly, lambda_)\n",
    "\n",
    "        if (debug): \n",
    "            display(Math('A - \\\\lambda I = %s - %s = %s' %((sym.latex(A)), sym.latex(IDENTITY * lambda_), sym.latex(OUTPUT))))\n",
    "            display(Math('determinant: %s = 0 ' %(sym.latex(_determinante_as_poly))))\n",
    "            display(Math('eigenvalues: %s' %(sym.latex(eigenvalues))))\n",
    "        return eigenvalues\n",
    "    else:\n",
    "        print(\"sorry, this only works for a 2x2 matrix\") \n",
    "\n",
    "def get_eigenvector(a:np.array, eigenvalue, debug=True):\n",
    "    x, x_1, x_2, lambda_ = sym.symbols('x x_1 x_2 lambda ') \n",
    "\n",
    "    a = np.array([[1,1],[4,1]])\n",
    "    A = sym.matrices.Matrix(a)\n",
    "    identity = np.identity(a.shape[0])\n",
    "    IDENTITY=sym.matrices.Matrix(identity) \n",
    "\n",
    "    eq_value = A - (IDENTITY*eigenvalue)\n",
    "\n",
    "    #now add two times the first row to the second row. Should turn second row into zeros.\n",
    "    two_times = np.array([[eq_value[0,0],eq_value[0,1]],[0,0]])\n",
    "    TWO_TIMES = sym.matrices.Matrix(two_times)\n",
    "    xes = np.array([[x_1],[x_2]])\n",
    "    XES = sym.matrices.Matrix(xes)\n",
    "\n",
    "    x_1 = 1\n",
    "    eq = TWO_TIMES[0,0] * x_1 + TWO_TIMES[0,1] * x_2\n",
    "    x_2 = sym.solve(eq, x_2)[0]\n",
    "    ev_matrix = np.array([[x_1],[x_2]])\n",
    "    \n",
    "    if debug:\n",
    "        display(Math('\\\\text{Now we solve for eigenvectors, using this: (A-}\\\\lambda\\\\text{I)x = 0}'))\n",
    "        display(Math('\\\\rightarrow \\\\space\\\\text{where }\\\\lambda\\\\text{ is the eigenvalue}'))\n",
    "        display(Math('A - \\\\lambda I = %s - %s = %s' %(sym.latex(A), sym.latex(IDENTITY * eigenvalue),sym.latex(eq_value))))\n",
    "        display(Math('%s %s =  \\\\begin{bmatrix}0 \\\\newline 0\\\\end{bmatrix} ' %(sym.latex(TWO_TIMES), sym.latex(XES))))\n",
    "        display(Math('eigenvector: %s  ' %(sym.simplify(ev_matrix))))\n",
    "    return ev_matrix\n",
    "    \n"
   ]
  },
  {
   "cell_type": "code",
   "execution_count": 30,
   "id": "ff3620d4-571d-477c-ba5d-adc8347b6574",
   "metadata": {},
   "outputs": [
    {
     "data": {
      "text/latex": [
       "$\\displaystyle eigenvalue: -1.0 \\Rightarrow eigenvector \\left[\\begin{matrix}1\\\\-2.0\\end{matrix}\\right]$"
      ],
      "text/plain": [
       "<IPython.core.display.Math object>"
      ]
     },
     "metadata": {},
     "output_type": "display_data"
    },
    {
     "data": {
      "text/latex": [
       "$\\displaystyle eigenvalue: 3.0 \\Rightarrow eigenvector \\left[\\begin{matrix}1\\\\2.0\\end{matrix}\\right]$"
      ],
      "text/plain": [
       "<IPython.core.display.Math object>"
      ]
     },
     "metadata": {},
     "output_type": "display_data"
    }
   ],
   "source": [
    "a = np.array([[1,1],[4,1]])\n",
    "ev =  find_eigenvalues(a, debug=False)\n",
    "\n",
    "for v in ev:\n",
    "    display(Math('eigenvalue: %s \\\\Rightarrow eigenvector %s' %(\n",
    "        sym.latex(sym.simplify(round(v,2))), \n",
    "        sym.latex(sym.sympify(get_eigenvector(a = a, eigenvalue=v, debug=False)))\n",
    "    )))\n"
   ]
  },
  {
   "cell_type": "markdown",
   "id": "245f1c85-7094-4390-a7a4-edc2f4b0c020",
   "metadata": {},
   "source": [
    "## Compute a factor using Single Value Decomposition\n",
    "                        "
   ]
  },
  {
   "cell_type": "code",
   "execution_count": 8,
   "id": "69d051b6-59d4-4f0d-aaed-9794ca786dfa",
   "metadata": {},
   "outputs": [
    {
     "data": {
      "text/latex": [
       "$\\displaystyle A_{[mn]} = U_{[mr]}\\Sigma_{[rr]}(V_{[nr]})^T$"
      ],
      "text/plain": [
       "<IPython.core.display.Math object>"
      ]
     },
     "metadata": {},
     "output_type": "display_data"
    },
    {
     "data": {
      "text/latex": [
       "$\\displaystyle \\text{ -| This A matrix is broken apart and represented as three other matricies}$"
      ],
      "text/plain": [
       "<IPython.core.display.Math object>"
      ]
     },
     "metadata": {},
     "output_type": "display_data"
    },
    {
     "data": {
      "text/latex": [
       "$\\displaystyle \\text{ -| A is the input data matrix of M*N, M rows and N columns. EG, every row a docuemnt, documents M and worsd as N. Or row user, movie column}$"
      ],
      "text/plain": [
       "<IPython.core.display.Math object>"
      ]
     },
     "metadata": {},
     "output_type": "display_data"
    },
    {
     "data": {
      "text/latex": [
       "$\\displaystyle \\text{ -| U is left singluar vectors, m*r matrix, documents M concepts R}$"
      ],
      "text/plain": [
       "<IPython.core.display.Math object>"
      ]
     },
     "metadata": {},
     "output_type": "display_data"
    },
    {
     "data": {
      "text/latex": [
       "$\\displaystyle \\text{ -| }\\Sigma\\text{ is singular values. R*R matrix, full of zeros except diagnal, which is the rank | strenght of matrix A, sorted in decreasing order.}$"
      ],
      "text/plain": [
       "<IPython.core.display.Math object>"
      ]
     },
     "metadata": {},
     "output_type": "display_data"
    },
    {
     "data": {
      "text/latex": [
       "$\\displaystyle \\text{ -| V}^{T-transpose}\\text {is Right Singular Vectors, N*R, where N is the number of columns in Matrix A,  and R is a small number, rank of matrix A}$"
      ],
      "text/plain": [
       "<IPython.core.display.Math object>"
      ]
     },
     "metadata": {},
     "output_type": "display_data"
    }
   ],
   "source": [
    "display(Math('A_{[mn]} = U_{[mr]}\\\\Sigma_{[rr]}(V_{[nr]})^T'))\n",
    "display(Math('\\\\text{ -| This A matrix is broken apart and represented as three other matricies}'))\n",
    "display(Math('\\\\text{ -| A is the input data matrix of M*N, M rows and N columns. EG, every row a docuemnt, documents M and worsd as N. Or row user, movie column}'))\n",
    "display(Math('\\\\text{ -| U is left singluar vectors, m*r matrix, documents M concepts R}'))\n",
    "display(Math('\\\\text{ -| }\\\\Sigma\\\\text{ is singular values. R*R matrix, full of zeros except diagnal, which is the rank | strenght of matrix A, sorted in decreasing order.}'))\n",
    "display(Math('\\\\text{ -| V}^{T-transpose}\\\\text {is Right Singular Vectors, N*R, where N is the number of columns in Matrix A,  and R is a small number, rank of matrix A}'))\n"
   ]
  },
  {
   "cell_type": "markdown",
   "id": "7c294bf5-51b2-47d0-9a89-a77baa515296",
   "metadata": {},
   "source": [
    "><img src=\"https://i.imgur.com/XpMlXcJ.png\" title=\"source: imgur.com\" width=\"1000\" />"
   ]
  },
  {
   "cell_type": "code",
   "execution_count": 9,
   "id": "2d417018-81a7-4cdb-a447-f0ab8d1c4ba2",
   "metadata": {},
   "outputs": [
    {
     "data": {
      "text/latex": [
       "$\\displaystyle A = \\left[\\begin{matrix}4 & 1 & 3\\\\8 & 3 & -2\\end{matrix}\\right]  \\Rightarrow U \\Sigma V^T = \\left[\\begin{matrix}0.41209927203049 & 0.911252039593934\\\\0.911118895244379 & -0.412159493248394\\end{matrix}\\right]  \\left[\\begin{matrix}9.49 & 0.0 & 0.0\\\\0.0 & 3.59 & 0.0\\end{matrix}\\right] \\left[\\begin{matrix}0.9415 & 0.0969 & 0.3228\\\\0.3314 & -0.0906 & -0.9391\\\\-0.0617 & 0.9912 & -0.1174\\end{matrix}\\right]$"
      ],
      "text/plain": [
       "<IPython.core.display.Math object>"
      ]
     },
     "metadata": {},
     "output_type": "display_data"
    }
   ],
   "source": [
    "from IPython.display import display,Math\n",
    "import sympy as sym\n",
    "import numpy as np\n",
    "import math\n",
    "\n",
    "a = np.array([[4, 1, 3],[8, 3, -2]])\n",
    "A = sym.matrices.Matrix(a)\n",
    "\n",
    "# We proved we could do it in problem 1, let's use numpy moving forward.\n",
    "lam, eigenvector = np.linalg.eig(a.T@a)\n",
    "\n",
    "# sort eigenvectors and eigenvalues in the same order\n",
    "V = eigenvector[:, lam.argsort()[::-1]]\n",
    "\n",
    "#first sort, then take off the zero numbers\n",
    "lam_sorted = np.round(np.sort(lam)[::-1], 2)\n",
    "lam_sorted = lam_sorted[lam_sorted > 0]\n",
    "\n",
    "# Take the square root of them to get the \n",
    "# non-zero singular values. We know that Σ should be a 3×3 matrix. So we \n",
    "# place the two non-zero singular values in a 2×2 diagonal matrix and pad it with zero \n",
    "# to have a 3 × 3 matrix. \n",
    "sigma = np.sqrt(lam_sorted)\n",
    "Sigma = np.zeros((a.shape[0], a.shape[1]))\n",
    "Sigma[:min(a.shape[0],a.shape[1]),:min(a.shape[0],a.shape[1])] = np.diag(sigma)\n",
    "SIGMA = sym.matrices.Matrix(np.round(Sigma, 4)) \n",
    "\n",
    "r = len(sigma)\n",
    "U = a @ V[:,:r] / sigma\n",
    "# print(\"U=\", np.round(U, 4))\n",
    "\n",
    "\n",
    "display(Math('A = %s  \\\\Rightarrow U \\\\Sigma V^T = %s  %s %s' %(\n",
    "    # 𝐴[𝑚𝑛]=𝑈[𝑚𝑟]Σ[𝑟𝑟](𝑉[𝑛𝑟])𝑇\n",
    "    sym.latex(sym.sympify(A)),\n",
    "    sym.latex(sym.sympify(U)),\n",
    "    sym.latex(sym.sympify(np.round(Sigma,2))),\n",
    "    sym.latex(sym.sympify(np.round(V,4)))\n",
    "    \n",
    "    \n",
    ")))\n",
    "\n",
    "\n",
    "# ## Check with this: \n",
    "## in checking, the numbers ar the same for U and T, but some of the signs are different.\n",
    "\n",
    "# import numpy as np\n",
    "# a = np.array([[4, 1, 3],[8, 3, -2]])\n",
    "# print(\"Original array:\")\n",
    "# print(a)\n",
    "# U, s, V = np.linalg.svd(a, full_matrices=False)\n",
    "# q, r = np.linalg.qr(a)\n",
    "# print(\"Factor of a given array  by Singular Value Decomposition:\")\n",
    "# print(\"U=\\n\", U, \"\\ns=\\n\", s, \"\\nV=\\n\", V)\n",
    "\n",
    "# Reference:\n",
    "# Conceptual: https://www.youtube.com/watch?v=P5mlg91as1c \n",
    "# Good Code: https://towardsdatascience.com/understanding-singular-value-decomposition-and-its-application-in-data-science-388a54be95d\n",
    "# Bad Code: https://web.mit.edu/be.400/www/SVD/Singular_Value_Decomposition.htm#:~:text=Calculating%20the%20SVD%20consists%20of,T%20or%20ATA."
   ]
  },
  {
   "cell_type": "markdown",
   "id": "0cb79b56-c83c-487c-9cb8-63ea3b29ba35",
   "metadata": {},
   "source": [
    "## Calculate the Determinant"
   ]
  },
  {
   "cell_type": "code",
   "execution_count": 33,
   "id": "55a82c49-9aec-4036-8756-0057cd3b596c",
   "metadata": {},
   "outputs": [
    {
     "data": {
      "text/latex": [
       "$\\displaystyle \\left[\\begin{matrix}a_{1} & b_{1} & c_{1}\\\\a_{2} & b_{2} & c_{2}\\\\a_{3} & b_{3} & c_{3}\\end{matrix}\\right] = a_{1} \\left[\\begin{matrix}b_{2} & c_{2}\\\\b_{3} & c_{3}\\end{matrix}\\right] -  b_{1} \\left[\\begin{matrix}a_{2} & c_{2}\\\\a_{3} & b_{3}\\end{matrix}\\right] +  c_{1} \\left[\\begin{matrix}a_{2} & b_{2}\\\\a_{3} & b_{3}\\end{matrix}\\right] $"
      ],
      "text/plain": [
       "<IPython.core.display.Math object>"
      ]
     },
     "metadata": {},
     "output_type": "display_data"
    },
    {
     "data": {
      "text/latex": [
       "$\\displaystyle \\left[\\begin{matrix}1 & 5 & 5\\\\6 & 4 & 7\\\\6 & 8 & 5\\end{matrix}\\right] \\Rightarrow Determinant = 144$"
      ],
      "text/plain": [
       "<IPython.core.display.Math object>"
      ]
     },
     "metadata": {},
     "output_type": "display_data"
    }
   ],
   "source": [
    "from IPython.display import display,Math\n",
    "import sympy as sym\n",
    "\n",
    "\n",
    "a_1,b_1,c_1,a_2,b_2,c_2,a_3,b_3,c_3 = sym.symbols('a_1,b_1,c_1,a_2,b_2,c_2,a_3,b_3,c_3') \n",
    "\n",
    "nine = sym.matrices.Matrix([[a_1,b_1,c_1],[a_2,b_2,c_2],[a_3,b_3,c_3]])\n",
    "ey1 = sym.matrices.Matrix([[b_2,c_2],[b_3,c_3]])\n",
    "be1 = sym.matrices.Matrix([[a_2,c_2],[a_3,b_3]])\n",
    "ce1 = sym.matrices.Matrix([[a_2,b_2],[a_3,b_3]])\n",
    "\n",
    "display(Math('%s = %s %s -  %s %s +  %s %s ' %(\n",
    "    sym.latex(nine),\n",
    "    sym.latex(a_1), \n",
    "    sym.latex(ey1), \n",
    "    sym.latex(b_1), \n",
    "    sym.latex(be1),  \n",
    "    sym.latex(c_1), \n",
    "    sym.latex(ce1)))) \n",
    "\n",
    "## now let's do the work.\n",
    "\n",
    "a_1 = 1\n",
    "a_2 = 6\n",
    "a_3 = 6\n",
    "b_1 = 5\n",
    "b_2 = 4\n",
    "b_3 = 8\n",
    "c_1 = 5\n",
    "c_2 = 7\n",
    "c_3 = 5\n",
    "\n",
    "nine = sym.matrices.Matrix([[a_1,b_1,c_1],[a_2,b_2,c_2],[a_3,b_3,c_3]])\n",
    "equation = \\\n",
    "    a_1 * ((b_2 * c_3) - (c_2 * b_3))  \\\n",
    "  - b_1 * ((a_2 * c_3) - (c_2 * a_3))  \\\n",
    "  + c_1 * ((a_2 * b_3) - (b_2 * a_3))\n",
    "\n",
    "\n",
    "display(Math('%s \\\\Rightarrow Determinant = %s' %(sym.latex(nine), sym.latex(equation))))\n",
    "\n",
    "#Check with:\n",
    "# works!!\n",
    "# nine.det()\n",
    "\n",
    "# ref: https://www.youtube.com/watch?v=3ROzG6n4yMc \n",
    "# https://matrix.reshish.com/detCalculation.php \n"
   ]
  },
  {
   "cell_type": "code",
   "execution_count": null,
   "id": "d08cae4e-db9f-4569-bf5e-538b2ff25c77",
   "metadata": {},
   "outputs": [],
   "source": []
  }
 ],
 "metadata": {
  "kernelspec": {
   "display_name": "Python 3 (ipykernel)",
   "language": "python",
   "name": "python3"
  },
  "language_info": {
   "codemirror_mode": {
    "name": "ipython",
    "version": 3
   },
   "file_extension": ".py",
   "mimetype": "text/x-python",
   "name": "python",
   "nbconvert_exporter": "python",
   "pygments_lexer": "ipython3",
   "version": "3.9.16"
  }
 },
 "nbformat": 4,
 "nbformat_minor": 5
}
