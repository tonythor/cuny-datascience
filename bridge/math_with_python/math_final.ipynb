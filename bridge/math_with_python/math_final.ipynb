{
 "cells": [
  {
   "cell_type": "markdown",
   "id": "70a37023-5185-4f4a-a644-668c8c3960dc",
   "metadata": {},
   "source": [
    "# Week 3"
   ]
  },
  {
   "cell_type": "markdown",
   "id": "f5309398-60ce-4a65-b09b-f4ecdc88bc50",
   "metadata": {},
   "source": [
    "<hr>\n",
    "\n",
    "## Question 1 \n",
    "\n",
    "The weights of steers in a herd are distributed normally.  The variance is 40,000 and the mean steer weight is 1300 lbs.  Find the probability that the weight of a randomly selected steer is greater than 979 lbs. (Round your answer to 4 decimal places)\n"
   ]
  },
  {
   "cell_type": "code",
   "execution_count": 42,
   "id": "1fc2af4e-1b9c-4360-b844-6566b455ffe6",
   "metadata": {},
   "outputs": [
    {
     "data": {
      "text/latex": [
       "$\\displaystyle z = \\frac{- \\mu + x}{\\sigma}$"
      ],
      "text/plain": [
       "<IPython.core.display.Math object>"
      ]
     },
     "metadata": {},
     "output_type": "display_data"
    },
    {
     "name": "stdout",
     "output_type": "stream",
     "text": [
      "Z Score = -1.605\n"
     ]
    },
    {
     "data": {
      "text/latex": [
       "$\\displaystyle Z Scores :  \\left[\\begin{array}{}z & 0.0 & 0.01 & 0.02 & 0.03 & 0.04 & 0.05 & 0.06 & 0.07 & 0.08 & 0.09\\\\-1.7 & 0.04457 & 0.04363 & 0.04272 & 0.04182 & 0.04093 & 0.04006 & 0.0392 & 0.03836 & 0.03754 & 0.03673\\\\-1.6 & 0.0548 & 0.0537 & 0.05262 & 0.05155 & 0.0505 & 0.04947 & 0.04846 & 0.04746 & 0.04648 & 0.04551\\\\-1.5 & 0.06681 & 0.06552 & 0.06426 & 0.06301 & 0.06178 & 0.06057 & 0.05938 & 0.05821 & 0.05705 & 0.05592\\end{array}\\right]$"
      ],
      "text/plain": [
       "<IPython.core.display.Math object>"
      ]
     },
     "metadata": {},
     "output_type": "display_data"
    },
    {
     "name": "stdout",
     "output_type": "stream",
     "text": [
      "one tail probability of 979 given  1300 is 0.495%\n"
     ]
    }
   ],
   "source": [
    "import sympy as sym\n",
    "import numpy as np\n",
    "import math\n",
    "sym.init_printing()\n",
    "from IPython.display import display,Math\n",
    "import statistics\n",
    "\n",
    "x = sym.symbols(\"x\")\n",
    "mu = sym.symbols(\"mu\") \n",
    "sigma = sym.symbols(\"sigma\") \n",
    "\n",
    "variance = 40000\n",
    "mean = 1300\n",
    "std = math.sqrt(variance) \n",
    "\n",
    "# convert to z, solve via table.\n",
    "z = (x - mu) / sigma\n",
    "display(Math(\"z = %s\" %(sym.latex(z))))\n",
    "\n",
    "z = (979 - 1300) / std\n",
    "print(f\"Z Score = {z}\")\n",
    "\n",
    "Z = sym.sympify(np.array(\n",
    "[['z',  .00, .01, .02, .03, .04, .05, .06, .07, .08, .09 ],\n",
    " [-1.7, .04457, .04363,.04272,.04182,.04093,.04006,.03920,.03836,.03754,.03673],\n",
    " [-1.6,.05480,.05370,.05262,.05155,.05050,.04947,.04846,.04746,.04648,.04551],\n",
    " [-1.5,.06681,.06552,.06426,.06301,.06178,.06057,.05938,.05821,.05705,.05592]\n",
    "]))\n",
    "\n",
    "display(Math(\"Z Scores :  %s\" %(sym.latex(Z))))\n",
    "print(\"one tail probability of 979 given  1300 is 0.495%\") \n"
   ]
  },
  {
   "cell_type": "markdown",
   "id": "865c56ca-9a91-477a-b86c-c16b9cee7dc6",
   "metadata": {},
   "source": [
    "<hr>\n",
    "\n",
    "## Question Two \n",
    "SVGA monitors manufactured by TSI Electronics have life spans that have a normal distribution with a variance of 1,960,000 and a mean life span of 11,000 hours.  If a SVGA monitor is selected at random, find the probability that the life span of the monitor will be more than 8340 hours. (Round your answer to 4 decimal places)"
   ]
  },
  {
   "cell_type": "code",
   "execution_count": 104,
   "id": "74e7d04c-77c8-45c9-aafd-2153a8cef5c2",
   "metadata": {},
   "outputs": [
    {
     "data": {
      "text/latex": [
       "$\\displaystyle z = \\frac{- \\mu + x}{\\sigma}$"
      ],
      "text/plain": [
       "<IPython.core.display.Math object>"
      ]
     },
     "metadata": {},
     "output_type": "display_data"
    },
    {
     "name": "stdout",
     "output_type": "stream",
     "text": [
      "Z Score = -1.9\n",
      "\n",
      "Probability 0.9713\n"
     ]
    }
   ],
   "source": [
    "x = sym.symbols(\"x\")\n",
    "mu = sym.symbols(\"mu\") \n",
    "sigma = sym.symbols(\"sigma\") \n",
    "\n",
    "variance = 1960000\n",
    "mean = 11000\n",
    "std = math.sqrt(variance)  ## 1400 \n",
    "\n",
    "# convert to z, solve via table.\n",
    "z = (x - mu) / sigma\n",
    "display(Math(\"z = %s\" %(sym.latex(z))))\n",
    "z = (8340 - 11000) / std\n",
    "print(f\"Z Score = {z}\")\n",
    "probability = 1 - stats.norm.cdf(z) \n",
    "print()\n",
    "print(f\"Probability {round(probability,4)}\") \n"
   ]
  },
  {
   "cell_type": "markdown",
   "id": "864ee8ef-8f09-41f9-8c4d-3a1f2860d4ae",
   "metadata": {},
   "source": [
    "<hr>\n",
    "\n",
    "## Question 3\n",
    "\n",
    "Suppose the mean income of firms in the industry for a year is 80 million dollars with a standard deviation of 3 million dollars.  If incomes for the industry are distributed normally, what is the probability that a randomly selected firm will earn between 83 and 85 million dollars? (Round your answer to 4 decimal places)"
   ]
  },
  {
   "cell_type": "code",
   "execution_count": 187,
   "id": "47aa8f4e-3921-4740-9dd9-f56689f0961a",
   "metadata": {},
   "outputs": [
    {
     "name": "stdout",
     "output_type": "stream",
     "text": [
      "p(83M<X<85M) = 0.1112  (from a website calculator)\n",
      "\n",
      "p(83M<X<85M) = 0.1109  (from this jupyter block)\n"
     ]
    }
   ],
   "source": [
    "# Using this:  hportal.org/calculators/statistics-calculator/normal-distribution-calculator.php\n",
    "print(\"p(83M<X<85M) = 0.1112  (from a website calculator)\") \n",
    "\n",
    "#### or using scipy.stats: \n",
    "import scipy.stats as stats\n",
    "# mean and standard deviation\n",
    "mu = 80\n",
    "sigma = 3\n",
    "# calculate the cumulative distribution function at 83 and 85\n",
    "cdf_83 = stats.norm.cdf(83, mu, sigma)\n",
    "cdf_85 = stats.norm.cdf(85, mu, sigma)\n",
    "\n",
    "# the probability of a firm earning between 83 and 85 million is the difference of these two\n",
    "probability = cdf_85 - cdf_83\n",
    "\n",
    "# print the probability, rounding to 4 decimal places\n",
    "print(f\"\\np(83M<X<85M) = {round(probability, 4)}  (from this jupyter block)\")\n"
   ]
  },
  {
   "cell_type": "markdown",
   "id": "1624a597-8258-4550-9437-3b9087cb80cd",
   "metadata": {},
   "source": [
    "<hr>\n",
    "\n",
    "## Question 4\n",
    "\n",
    "\n",
    "Suppose GRE Verbal scores are normally distributed with a mean of 456 and a standard deviation of 123.  A university plans to offer tutoring jobs to students whose scores are in the top 14%.  What is the minimum score required for the job offer?  Round your answer to the nearest whole number, if necessary."
   ]
  },
  {
   "cell_type": "code",
   "execution_count": 188,
   "id": "362ea1d5-1ccf-452e-9508-8b08c797523e",
   "metadata": {
    "tags": []
   },
   "outputs": [
    {
     "data": {
      "text/latex": [
       "$\\displaystyle 1.08 = -22.8333333333333 = 1.08 * \\sigma + \\mu =1.08 * 123 +  456 $"
      ],
      "text/plain": [
       "<IPython.core.display.Math object>"
      ]
     },
     "metadata": {},
     "output_type": "display_data"
    },
    {
     "data": {
      "text/latex": [
       "$\\displaystyle \\text{GRE Score must be > 589}$"
      ],
      "text/plain": [
       "<IPython.core.display.Math object>"
      ]
     },
     "metadata": {},
     "output_type": "display_data"
    }
   ],
   "source": [
    "# the hard part here is knowing how/why to look up what number in the Z table.\n",
    "# https://www.inchcalculator.com/z-table/\n",
    "\n",
    "# 1. Go lookup the Z score that corresponds to postiive 14% / 86%.\n",
    "Z = 1.08\n",
    "\n",
    "# 2. Now plug that into the formula for Z Scores, and solove.\n",
    "z = (x - mu) / sigma\n",
    "# 3. Now move everything over to the other side and solve for x.\n",
    "\n",
    "display(Math(\"1.08 = %s = 1.08 * \\\\sigma + \\\\mu =1.08 * 123 +  456 \" %(sym.latex(z))))\n",
    "display(Math(\"\\\\text{GRE Score must be > 589}\"))\n",
    "      \n",
    "\n",
    "\n"
   ]
  },
  {
   "cell_type": "markdown",
   "id": "7e4d0666-d443-43f4-9c11-069c89229539",
   "metadata": {},
   "source": [
    "<hr>\n",
    "\n",
    "\n",
    "## Question 5\n",
    "\n",
    "The lengths of nails produced in a factory are normally distributed with a mean of 6.13 centimeters and a standard deviation of 0.06 centimeters.  Find the two lengths that separate the top 7% and the bottom 7%.  These lengths could serve as limits used to identify which nails should be rejected.  Round your answer to the nearest hundredth, if necessary.\n"
   ]
  },
  {
   "cell_type": "code",
   "execution_count": 105,
   "id": "c2b6221c-ee62-4190-8245-919344f6d9f3",
   "metadata": {},
   "outputs": [
    {
     "name": "stdout",
     "output_type": "stream",
     "text": [
      "Lower limit: 6.04 cm\n",
      "Upper limit: 6.22 cm\n"
     ]
    }
   ],
   "source": [
    "## like above, find top and bottom 7% from z score table. \n",
    "## use stats.norm percent points function\n",
    "\n",
    "import scipy.stats as stats\n",
    "\n",
    "# mean and standard deviation\n",
    "mu = 6.13\n",
    "sigma = 0.06\n",
    "\n",
    "# Use the percent point function (inverse of the CDF) to find the \n",
    "# lower and upper limits corresponding to the bottom 7% and top 7% \n",
    "lower_limit = stats.norm.ppf(0.07, mu, sigma)\n",
    "upper_limit = stats.norm.ppf(0.93, mu, sigma)\n",
    "\n",
    "# Round the limits to two decimal places\n",
    "lower_limit = round(lower_limit, 2)\n",
    "upper_limit = round(upper_limit, 2)\n",
    "\n",
    "print(\"Lower limit:\", lower_limit, \"cm\")\n",
    "print(\"Upper limit:\", upper_limit, \"cm\")"
   ]
  },
  {
   "cell_type": "markdown",
   "id": "f4cd1771-6d63-43b2-870b-44c22251b544",
   "metadata": {},
   "source": [
    "<hr>\n",
    "\n",
    "## Question 6\n",
    "\n",
    "An English professor assigns letter grades on a test according to the following scheme.\n",
    "* A:  Top 13% of scores\n",
    "* B:  Scores below the top 13% and above the bottom 55%\n",
    "* C:  Scores below the top 45% and above the bottom 20%\n",
    "* D:  Scores below the top 80% and above the bottom 9%\n",
    "* F:  Bottom 9% of scores\n",
    "\n",
    "Scores on the test are normally distributed with a mean of 78.8 and a standard deviation of 9.8.  Find the numerical limits for a C grade.  Round your answers to the nearest whole number, if necessary."
   ]
  },
  {
   "cell_type": "code",
   "execution_count": 128,
   "id": "b0616592-0601-4c29-af06-78117290024e",
   "metadata": {},
   "outputs": [
    {
     "name": "stdout",
     "output_type": "stream",
     "text": [
      "Grade C bands -> 71 78\n"
     ]
    }
   ],
   "source": [
    "# almost identical to question 5, find numerical boundaries of 45 and 20.\n",
    "\n",
    "import scipy.stats as stats\n",
    "\n",
    "mu = 78.8\n",
    "sigma = 9.8\n",
    "\n",
    "c_lower_limit = round(stats.norm.ppf(0.20, mu, sigma))\n",
    "c_upper_limit = round(stats.norm.ppf(0.45, mu, sigma)) \n",
    "\n",
    "\n",
    "print(f\"Grade C bands -> {c_lower_limit} {c_upper_limit}\") "
   ]
  },
  {
   "cell_type": "markdown",
   "id": "e17f65f8-9527-4133-85f2-74dcf202a73c",
   "metadata": {},
   "source": [
    "<hr>\n",
    "\n",
    "## Question 7\n",
    "\n",
    "Suppose ACT Composite scores are normally distributed with a mean of 21.2 and a standard deviation of 5.4.  A university plans to admit students whose scores are in the top 45%.  What is the minimum score required for admission?  Round your answer to the nearest tenth, if necessary.\n"
   ]
  },
  {
   "cell_type": "code",
   "execution_count": 137,
   "id": "dafa6fb1-afae-4bf6-ab8c-315933fc637b",
   "metadata": {},
   "outputs": [
    {
     "name": "stdout",
     "output_type": "stream",
     "text": [
      "ACT lower limit admission score: 21.9\n"
     ]
    }
   ],
   "source": [
    "import scipy.stats as stats\n",
    "\n",
    "mu = 21.2\n",
    "sigma = 5.4\n",
    "\n",
    "lower_limit = round(stats.norm.ppf(1-.45, mu, sigma), 1)\n",
    "print(f\"ACT lower limit admission score: {lower_limit}\") "
   ]
  },
  {
   "cell_type": "markdown",
   "id": "6e665af6-e673-472c-8958-45c69118b239",
   "metadata": {},
   "source": [
    "<hr>\n",
    "\n",
    "## Question 8\n",
    "\n",
    "Consider the probability that less than 11 out of 151 students will not graduate on time.  Assume the probability that a given student will not graduate on time is 9%.  Approximate the probability using the normal distribution. (Round your answer to 4 decimal places.)\n"
   ]
  },
  {
   "cell_type": "code",
   "execution_count": 164,
   "id": "951d7216-fb9c-442d-9e3c-8f86a27b37e6",
   "metadata": {},
   "outputs": [
    {
     "name": "stdout",
     "output_type": "stream",
     "text": [
      "Probability that a given student will not graduate on time: 0.2762\n"
     ]
    }
   ],
   "source": [
    "import scipy.stats as stats\n",
    "\n",
    "## bernoulli trial / binomial distribution\n",
    "# μ = np\n",
    "# σ = sqrt(np(1-p))\n",
    "\n",
    "n = 151 \n",
    "p = .09\n",
    "mu = n * p \n",
    "sigma = math.sqrt(n * p * (1-p))\n",
    "\n",
    "# Value for which we want to find the probability\n",
    "x = 11.5\n",
    "\n",
    "# Calculate the Z-score\n",
    "z_score = (x - mu) / sigma\n",
    "\n",
    "# Calculate the probability using the CDF\n",
    "probability = stats.norm.cdf(z_score)\n",
    "\n",
    "# Round the probability to 4 decimal places\n",
    "rounded_probability = round(probability, 4)\n",
    "\n",
    "print(f\"Probability that a given student will not graduate on time: {rounded_probability}\")"
   ]
  },
  {
   "cell_type": "markdown",
   "id": "7463fe73-d911-4257-a0a6-ced509f7c30b",
   "metadata": {},
   "source": [
    "<hr>\n",
    "\n",
    "## Question 9\n",
    "\n",
    "The mean lifetime of a tire is 48 months with a standard deviation of 7.  If 147 tires are sampled, what is the probability that the mean of the sample would be greater than 48.83 months? (Round your answer to 4 decimal places)\n",
    "    "
   ]
  },
  {
   "cell_type": "code",
   "execution_count": 180,
   "id": "00429d30-6884-49bd-a356-555ad802c812",
   "metadata": {},
   "outputs": [
    {
     "name": "stdout",
     "output_type": "stream",
     "text": [
      "Probability: 0.0753\n"
     ]
    }
   ],
   "source": [
    "import scipy.stats as stats\n",
    "\n",
    "# Central Limit Theorem --  when the number of observations n is large, \n",
    "# the distribution of the sample mean approximates a normal distribution regardless of \n",
    "# the shape of the population distribution.\n",
    "\n",
    "# The mean (μ) of this distribution is the same as the population mean, and its \n",
    "# standard deviation (often called the standard error, σx̄) is the population standard deviation \n",
    "# divided by the square root of the sample size:\n",
    "    \n",
    "# Population mean and standard error\n",
    "mu = 48\n",
    "sigma_x_bar = 7 / math.sqrt(147) \n",
    "\n",
    "# Sample mean for which we want to find the probability\n",
    "x_bar = 48.83\n",
    "\n",
    "# Calculate the Z-score\n",
    "z_score = (x_bar - mu) / sigma_x_bar\n",
    "\n",
    "# Calculate the probability using the survival function (1 - CDF)\n",
    "probability = round(stats.norm.sf(z_score),4)\n",
    "\n",
    "\n",
    "print(f\"Probability: {probability}\")"
   ]
  },
  {
   "cell_type": "markdown",
   "id": "387c855a-a894-43f8-9df8-58b1f5dca43a",
   "metadata": {},
   "source": [
    "<hr>\n",
    "\n",
    "## Question 10\n",
    "\n",
    "The quality control manager at a computer manufacturing company believes that the mean life of a computer is 91 months, with a standard deviation of 10.  If he is correct, what is the probability that the mean of a sample of 68 computers would be greater than 93.54 months? (Round your answer to 4 decimal places)\n",
    "    "
   ]
  },
  {
   "cell_type": "code",
   "execution_count": 185,
   "id": "459a14c8-9fd9-49b7-973f-6be8a77382c8",
   "metadata": {},
   "outputs": [
    {
     "name": "stdout",
     "output_type": "stream",
     "text": [
      "Probability: 0.0181\n"
     ]
    }
   ],
   "source": [
    "import scipy.stats as stats\n",
    "\n",
    "# Also Central Limit Theorem\n",
    "mu = 91\n",
    "sigma_x_bar = 10 / math.sqrt(68) \n",
    "\n",
    "# Sample mean for which we want to find the probability\n",
    "x_bar = 93.54\n",
    "\n",
    "# Calculate the Z-score\n",
    "z_score = (x_bar - mu) / sigma_x_bar\n",
    "\n",
    "# Calculate the probability using the survival function (1 - CDF)\n",
    "probability = round(stats.norm.sf(z_score),4)\n",
    "\n",
    "print(f\"Probability: {probability}\")\n"
   ]
  },
  {
   "cell_type": "markdown",
   "id": "17496cda-6ff0-4df1-8288-947505a0668f",
   "metadata": {},
   "source": [
    "<hr>\n",
    "\n",
    "## Question 11\n",
    "\n",
    "A director of reservations believes that 7% of the ticketed passengers are no-shows.  If the director is right, what is the probability that the proportion of no-shows in a sample of 540 ticketed passengers would differ from the population proportion by less than 3%? (Round your answer to 4 decimal places)\n",
    "\n"
   ]
  },
  {
   "cell_type": "code",
   "execution_count": null,
   "id": "8213e5f9-534c-4282-90dd-5ef0bb09b4bc",
   "metadata": {},
   "outputs": [],
   "source": [
    "# This is a problem of sampling distributions of proportions. \n",
    "\n",
    "\n"
   ]
  },
  {
   "cell_type": "markdown",
   "id": "d0a77da3-c78f-42d0-a88b-99aac7f1dba9",
   "metadata": {},
   "source": [
    "<hr>\n",
    "\n",
    "## Question 12\n",
    "\n",
    "A bottle maker believes that 23% of his bottles are defective.  If the bottle maker is accurate, what is the probability that the proportion of defective bottles in a sample of 602 bottles would differ from the population proportion by greater than 4%? (Round your answer to 4 decimal places)"
   ]
  },
  {
   "cell_type": "code",
   "execution_count": 184,
   "id": "b18990c1-8a97-404d-875e-23bc284a5f99",
   "metadata": {},
   "outputs": [],
   "source": [
    "# Also a problem related to the sampling distribution of proportions.\n"
   ]
  },
  {
   "cell_type": "markdown",
   "id": "1be2b7f0-25c4-4ba2-a148-8d89c9c39b6d",
   "metadata": {},
   "source": [
    "<hr>\n",
    "\n",
    "## Question 13\n",
    "A research company desires to know the mean consumption of beef per week among males over age 48.  Suppose a sample of size 208 is drawn with x_bar  = 3.9.  Assume sigma = 0.8 .  Construct the 80% confidence interval for the mean number of lb. of beef per week among males over 48. (Round your answers to 1 decimal place)  (answer expects lower and upper bounds) \n"
   ]
  },
  {
   "cell_type": "code",
   "execution_count": null,
   "id": "9e700685-c845-4a86-a807-759b61bf350b",
   "metadata": {},
   "outputs": [],
   "source": []
  },
  {
   "cell_type": "markdown",
   "id": "7e91333d-f683-42c0-84a6-f91b149b1876",
   "metadata": {},
   "source": [
    "<hr>\n",
    "\n",
    "## Question 14\n",
    "An economist wants to estimate the mean per capita income (in thousands of dollars) in a major city in California.  Suppose a sample of size 7472 is drawn with x ̅  = 16.6.  Assume ® = 11 .  Construct the 98% confidence interval for the mean per capita income. (Round your answers to 1 decimal place) \n",
    "(answer expects lower and upper bounds) "
   ]
  },
  {
   "cell_type": "code",
   "execution_count": null,
   "id": "a04ae642-e269-4762-8ec6-734bc8d930d4",
   "metadata": {},
   "outputs": [],
   "source": []
  },
  {
   "cell_type": "markdown",
   "id": "8f9e040b-d189-46cf-92bb-6b4a09f61788",
   "metadata": {},
   "source": [
    "<hr>\n",
    "\n",
    "## Question 15 \n",
    "\n",
    "Find the value of t such that 0.05 of the area under the curve is to the left of t.  Assume the degrees of freedom equals 26."
   ]
  },
  {
   "cell_type": "markdown",
   "id": "e3be5920-5aac-4806-86cb-ad971dfdda3b",
   "metadata": {},
   "source": [
    "<hr>\n",
    "\n",
    "## Question 16\n",
    "\n",
    "The following measurements ( in picocuries per liter ) were recorded by a set of helium gas detectors installed in a laboratory facility:  383.6, 347.1, 371.9, 347.6, 325.8, 337. Using these measurements, construct a 90% confidence interval for the mean level of helium gas present in the facility.  Assume the population is normally distributed.  \n",
    "\n",
    "* Step 1. Calculate the sample mean for the given sample data. (Round answer to 2 decimal places) \n",
    "* Step 2. Calculate the sample standard deviation for the given sample data. (Round answer to 2 decimal places) \n",
    "* Step 3. Find the critical value that should be used in constructing the confidence interval. (Round answer to * 3 decimal places) \n",
    "* Step 4. Construct the 90% confidence interval. (Round answer to 2 decimal places)\n",
    "\n"
   ]
  },
  {
   "cell_type": "markdown",
   "id": "e2b58f02-0cb8-400a-b801-3ecb837fb12a",
   "metadata": {},
   "source": [
    "<hr>\n",
    "\n",
    "## Question 17\n",
    "\n",
    "A random sample of 16 fields of spring wheat has a mean yield of 46.4 bushels per acre and standard deviation of 2.45 bushels per acre.  Determine the 80% confidence interval for the true mean yield.  Assume the population is normally distributed.  \n",
    "\n",
    "* Step 1. Find the critical value that should be used in constructing the confidence interval. (Round answer to 3 decimal places) \n",
    "* Step 2. Construct the 80% confidence interval. (Round answer to 1 decimal place)\n",
    "\n"
   ]
  },
  {
   "cell_type": "markdown",
   "id": "1b59f2a9-1fa6-4ca5-bdc2-d4fb50d453f4",
   "metadata": {},
   "source": [
    "<hr>\n",
    "\n",
    "## Question 18\n",
    "\n",
    "A toy manufacturer wants to know how many new toys children buy each year.  She thinks the mean is 8 toys per year.  Assume a previous study found the standard deviation to be 1.9.  How large of a sample would be required in order to estimate the mean number of toys bought per child at the 99% confidence level with an error of at most 0.13 toys? (Round your answer up to the next integer)\n"
   ]
  },
  {
   "cell_type": "markdown",
   "id": "0fd13332-a6fd-4a65-8e2d-c812ee98926a",
   "metadata": {},
   "source": [
    "<hr>\n",
    "\n",
    "## Question 19\n",
    "A research scientist wants to know how many times per hour a certain strand of bacteria reproduces.  He believes that the mean is 12.6.  Assume the variance is known to be 3.61.  How large of a sample would be required in order to estimate the mean number of reproductions per hour at the 95% confidence level with an error of at most 0.19 reproductions? (Round your answer up to the next integer)\n"
   ]
  },
  {
   "cell_type": "markdown",
   "id": "63bc3c79-bb84-44d0-a42b-9c0309a3fcf9",
   "metadata": {},
   "source": [
    "<hr>\n",
    "\n",
    "## Question 20\n",
    "\n",
    "The state education commission wants to estimate the fraction of tenth grade students that have reading skills at or below the eighth grade level.\n",
    "\n",
    "* Step 1. Suppose a sample of 2089 tenth graders is drawn. Of the students sampled, 1734 read above the eighth grade level.  Using the data, estimate the proportion of tenth graders reading at or below the eighth grade level. (Write your answer as a fraction or a decimal number rounded to 3 decimal places) \n",
    "\n",
    "* Step 2. Suppose a sample of 2089 tenth graders is drawn.  Of the students sampled, 1734 read above the eighth grade level.  Using the data, construct the 98% confidence interval for the population proportion of tenth graders reading at or below the eighth grade level. (Round your answers to 3 decimal places)\n",
    "\n",
    "\n",
    "\n"
   ]
  },
  {
   "cell_type": "markdown",
   "id": "6ff436b5-910b-46b3-b473-e407007db0c8",
   "metadata": {},
   "source": [
    "<hr>\n",
    "\n",
    "## Question 21\n",
    "An environmentalist wants to find out the fraction of oil tankers that have spills each month.\n",
    "\n",
    "* Step 1. Suppose a sample of 474 tankers is drawn.  Of these ships, 156 had spills.  Using the data, estimate the proportion of oil tankers that had spills. (Write your answer as a fraction or a decimal number rounded to 3 decimal places) \n",
    "* Step 2. Suppose a sample of 474 tankers is drawn.  Of these ships, 156 had spills.  Using the data, construct the 95% confidence interval for the population proportion of oil tankers that have spills each month. (Round your answers to 3 decimal places)\n",
    "\n",
    "\n",
    "\n",
    "\n",
    "\n"
   ]
  },
  {
   "cell_type": "code",
   "execution_count": null,
   "id": "8f8293c4-6fb6-4ddb-a333-48a50029d42d",
   "metadata": {},
   "outputs": [],
   "source": []
  }
 ],
 "metadata": {
  "kernelspec": {
   "display_name": "Python 3 (ipykernel)",
   "language": "python",
   "name": "python3"
  },
  "language_info": {
   "codemirror_mode": {
    "name": "ipython",
    "version": 3
   },
   "file_extension": ".py",
   "mimetype": "text/x-python",
   "name": "python",
   "nbconvert_exporter": "python",
   "pygments_lexer": "ipython3",
   "version": "3.9.16"
  }
 },
 "nbformat": 4,
 "nbformat_minor": 5
}
