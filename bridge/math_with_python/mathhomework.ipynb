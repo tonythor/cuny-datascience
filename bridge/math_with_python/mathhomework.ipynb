{
 "cells": [
  {
   "cell_type": "markdown",
   "id": "56cf6e6c-4ce4-42d6-b158-839362720133",
   "metadata": {},
   "source": [
    "# Do not grade unless you have the time to do so. \n",
    "\n",
    "I'm doing this optionally, just to see what it's like to do homework again, and to see what math is like. \n",
    "\n"
   ]
  },
  {
   "cell_type": "markdown",
   "id": "466cdb45-13ed-41ef-93cb-660cb8d2b74f",
   "metadata": {},
   "source": [
    "# Even-Odd Vending Machine\n",
    "\n",
    "Try writing an “even-odd vending machine,” which will take a number as input and do two things:\n",
    "\n",
    "1. Print whether the number is even or odd.\n",
    "1. Display the number followed by the next 9 even or odd numbers.\n",
    "* Example: if input = 2, print(\"even\" + 2, 4, 6, 8, 10, 12, 14, 16, 18, 20) \n",
    "* Example: if input = 1, print (\"odd\" + 1, 3, 5, 7,  9, 11, 13, 15, 17, 19)\n",
    "\n",
    "Your program should use the is_integer() method to display an error message if the input is a number with significant digits beyond the decimal point."
   ]
  },
  {
   "cell_type": "code",
   "execution_count": 1,
   "id": "19170dfb-addb-405b-81b6-e71d21f674cc",
   "metadata": {
    "tags": []
   },
   "outputs": [
    {
     "name": "stdin",
     "output_type": "stream",
     "text": [
      " 2\n"
     ]
    },
    {
     "name": "stdout",
     "output_type": "stream",
     "text": [
      "Input=2 OddOrEven=even Range=[2, 4, 6, 8, 10, 12, 14, 16, 18, 20]\n"
     ]
    }
   ],
   "source": [
    "inbound = input()\n",
    "try:\n",
    "    if(float(inbound).is_integer()):\n",
    "        inbound_as_int = int(inbound) \n",
    "        odd_or_even = \"even\" if (inbound_as_int % 2 == 0) else \"odd\"\n",
    "        r_val = list(range(inbound_as_int, inbound_as_int + 20, 2))\n",
    "        print(f\"Input={inbound_as_int} OddOrEven={odd_or_even} Range={str(r_val)}\")\n",
    "    else:\n",
    "        print(\"Input must be an integer, which is a number without decimal places\") \n",
    "except:\n",
    "    print(\"You have to use a number as input.\")\n"
   ]
  },
  {
   "cell_type": "markdown",
   "id": "c16fa828-73ca-4320-bd17-f2b821bffa94",
   "metadata": {
    "tags": []
   },
   "source": [
    "<hr>"
   ]
  },
  {
   "cell_type": "markdown",
   "id": "7cdcce75-04e3-4a7a-8906-1fd7e9b13fe0",
   "metadata": {},
   "source": [
    "# Exploring a Quadratic Function Visually\n",
    "\n",
    "Assuuming the following:\n",
    "\n",
    "\n",
    "$\\begin{aligned}\n",
    "  Quadratic &= x^2 + 2x + 1\\\\\n",
    "  X Values &=[-1,1,2,3,4,5]\\\\\n",
    "WithExamplePoints &=(x:3, y:16),(x:4,y:25)(x:5,y:36)\\\\\n",
    "\\end{aligned}$\n",
    "\n",
    "\n",
    "Your programming challenge is to enhance this program to create a graph of the function. Try using at least 10 values for x instead of the 6 above. Calculate the corresponding y values using the function and then create a graph using these two sets of values. Once you’ve created the graph, spend some time analyzing how the value of y varies with respect to x. Is the variation linear or nonlinear?"
   ]
  },
  {
   "cell_type": "markdown",
   "id": "bd51c539-24e3-4180-a7b2-7c075cd0a619",
   "metadata": {
    "tags": []
   },
   "source": []
  },
  {
   "cell_type": "code",
   "execution_count": 2,
   "id": "98df9ea9-e35b-425c-8a5a-0572c33e03c3",
   "metadata": {
    "tags": []
   },
   "outputs": [
    {
     "data": {
      "text/latex": [
       "$\\displaystyle x^{2} + 2 x + 1$"
      ],
      "text/plain": [
       "<IPython.core.display.Math object>"
      ]
     },
     "metadata": {},
     "output_type": "display_data"
    },
    {
     "data": {
      "image/png": "[encoded data removed]",
      "text/plain": [
       "<Figure size 640x480 with 1 Axes>"
      ]
     },
     "metadata": {},
     "output_type": "display_data"
    }
   ],
   "source": [
    "import sympy as sym\n",
    "import numpy as np\n",
    "import math\n",
    "sym.init_printing()\n",
    "from IPython.display import display,Math\n",
    "import matplotlib.pyplot as plt\n",
    "\n",
    "x = sym.symbols('x') \n",
    "func = x**2 + 2*x + 1\n",
    "display(Math(sym.latex(func)))\n",
    "data_points = list(range(-10,10))\n",
    "\n",
    "mydc = dict()\n",
    "for r in data_points:\n",
    "    l,r = (r, func.subs(x,r))\n",
    "    mydc[l]=r\n",
    "    plt.plot(l,r, \"r+\")\n",
    "    \n",
    "# print(mydc)\n",
    "# gives you a list of data points. {-10: 81, -9: 64, -8: 49, -7: 36, -6: 25, -5: 16, -4: 9, -3: 4, -2: 1, -1: 0, 0: 1, 1: 4, 2: 9, 3: 16, 4: 25, 5: 36, 6: 49, 7: 64, 8: 81, 9: 100}\n",
    "\n",
    "plt.xlabel('X')\n",
    "plt.ylabel(f'f(x)::{func}')\n",
    "plt.grid()\n",
    "plt.show()\n",
    "\n"
   ]
  },
  {
   "cell_type": "markdown",
   "id": "a6b15c53-0096-43f6-9b9d-5740aa69ecb7",
   "metadata": {
    "tags": []
   },
   "source": [
    "### I'd describe this as a positive exponential and parabolic curve. The relationship is perfectly linear.. becuase it's a line. "
   ]
  },
  {
   "cell_type": "markdown",
   "id": "3e2b8990-ab82-4cd0-aca8-b7441cab4b27",
   "metadata": {},
   "source": [
    "<hr>"
   ]
  },
  {
   "cell_type": "markdown",
   "id": "b49bdc46-e845-4696-8325-a8f0358df53f",
   "metadata": {},
   "source": [
    "# Statistics Calculator\n",
    "Implement a statistics calculator that takes a list of numbers in the file mydata.txt and then calculates and prints their mean, median, mode, variance, and standard deviation using the functions we wrote earlier in this chapter.\n"
   ]
  },
  {
   "cell_type": "code",
   "execution_count": 1,
   "id": "eeb0a260-72dd-4299-9715-9d16c4481e5e",
   "metadata": {
    "tags": []
   },
   "outputs": [
    {
     "name": "stdout",
     "output_type": "stream",
     "text": [
      "Statistics Calculator\n",
      "mean     : 6.67\n",
      "median   : 5.0\n",
      "stdev    : 5.71\n",
      "mode     : 3,5\n",
      "variance : 32.56\n",
      "\n",
      "- showing inbound data -\n"
     ]
    },
    {
     "data": {
      "text/html": [
       "<div>\n",
       "<style scoped>\n",
       "    .dataframe tbody tr th:only-of-type {\n",
       "        vertical-align: middle;\n",
       "    }\n",
       "\n",
       "    .dataframe tbody tr th {\n",
       "        vertical-align: top;\n",
       "    }\n",
       "\n",
       "    .dataframe thead th {\n",
       "        text-align: right;\n",
       "    }\n",
       "</style>\n",
       "<table border=\"1\" class=\"dataframe\">\n",
       "  <thead>\n",
       "    <tr style=\"text-align: right;\">\n",
       "      <th></th>\n",
       "      <th>0</th>\n",
       "      <th>1</th>\n",
       "      <th>2</th>\n",
       "      <th>3</th>\n",
       "      <th>4</th>\n",
       "      <th>5</th>\n",
       "      <th>6</th>\n",
       "      <th>7</th>\n",
       "      <th>8</th>\n",
       "      <th>9</th>\n",
       "      <th>10</th>\n",
       "      <th>11</th>\n",
       "    </tr>\n",
       "  </thead>\n",
       "  <tbody>\n",
       "    <tr>\n",
       "      <th>values</th>\n",
       "      <td>2</td>\n",
       "      <td>3</td>\n",
       "      <td>5</td>\n",
       "      <td>5</td>\n",
       "      <td>6</td>\n",
       "      <td>19</td>\n",
       "      <td>14</td>\n",
       "      <td>15</td>\n",
       "      <td>0</td>\n",
       "      <td>3</td>\n",
       "      <td>5</td>\n",
       "      <td>3</td>\n",
       "    </tr>\n",
       "  </tbody>\n",
       "</table>\n",
       "</div>"
      ],
      "text/plain": [
       "        0   1   2   3   4   5   6   7   8   9   10  11\n",
       "values   2   3   5   5   6  19  14  15   0   3   5   3"
      ]
     },
     "execution_count": 1,
     "metadata": {},
     "output_type": "execute_result"
    }
   ],
   "source": [
    "import pandas as pd\n",
    "data = pd.read_csv(\"./data/mydata.txt\", names=['values'])\n",
    "median = float(data.median())\n",
    "mean = round(float(data.mean()), 2)       \n",
    "## a series could multiple modes! Loop through them, convert them into a single string for display\n",
    "modes = ','.join([ str(x) for x in data.mode()['values']])\n",
    "## Also tricky, this could be a sample, or it could be the population. Statistics is about using numbers\n",
    "## to try to extrapoloate information about the population. But, I made that data set and here's no more, \n",
    "## so it's the poplation and not a sample. Therefore, degrees of freedom should be 0.\n",
    "stdev = round(float(data.std(ddof=0)),2)\n",
    "variance = round(float(data.var(ddof=0)), 2)\n",
    "\n",
    "print(\"Statistics Calculator\") \n",
    "print(f\"mean     : {mean}\")\n",
    "print(f\"median   : {median}\")\n",
    "print(f\"stdev    : {stdev}\")\n",
    "print(f\"mode     : {modes}\")\n",
    "print(f\"variance : {variance}\")\n",
    "print(\"\")\n",
    "print(\"- showing inbound data -\")\n",
    "data.transpose()\n",
    "\n"
   ]
  },
  {
   "cell_type": "markdown",
   "id": "aa5708e5-7509-49da-9163-e31387265528",
   "metadata": {},
   "source": [
    "# Solving Single-Variable Inequalities\n",
    "Create a function, isolve(), that will take any inequality, solve it, and then return the solution. To solve a polynomial inequality, use the solve_poly_inequality() function. "
   ]
  },
  {
   "cell_type": "code",
   "execution_count": 239,
   "id": "86506a16-b09f-4e0c-ac90-18fd12bc5d98",
   "metadata": {
    "tags": []
   },
   "outputs": [
    {
     "data": {
      "text/latex": [
       "$\\displaystyle - x^{2} + 4 x + 4 > 0 \\;\\; \\Rightarrow x^{2} - 4 x < 4 \\;\\; \\Rightarrow \\;\\; x < 2 + 2 \\sqrt{2} \\wedge 2 - 2 \\sqrt{2} < x$"
      ],
      "text/plain": [
       "<IPython.core.display.Math object>"
      ]
     },
     "metadata": {},
     "output_type": "display_data"
    },
    {
     "data": {
      "text/latex": [
       "$\\displaystyle x^{2} + 2 x > 1 \\;\\; \\Rightarrow x^{2} + 2 x > 1 \\;\\; \\Rightarrow \\;\\; \\left(-\\infty < x \\wedge x < - \\sqrt{2} - 1\\right) \\vee \\left(x < \\infty \\wedge -1 + \\sqrt{2} < x\\right)$"
      ],
      "text/plain": [
       "<IPython.core.display.Math object>"
      ]
     },
     "metadata": {},
     "output_type": "display_data"
    },
    {
     "data": {
      "text/latex": [
       "$\\displaystyle \\operatorname{Poly}{\\left( -x^{2} + 4, x, domain=\\mathbb{Z} \\right)} \\;\\; \\Rightarrow \\operatorname{Poly}{\\left( -x^{2} + 4, x, domain=\\mathbb{Z} \\right)} \\;\\; \\Rightarrow \\;\\; \\left[ \\left(-\\infty, -2\\right), \\  \\left(2, \\infty\\right)\\right]$"
      ],
      "text/plain": [
       "<IPython.core.display.Math object>"
      ]
     },
     "metadata": {},
     "output_type": "display_data"
    }
   ],
   "source": [
    "import sympy as sym\n",
    "import numpy as np\n",
    "sym.init_printing()\n",
    "from IPython.display import display,Math\n",
    "import sympy\n",
    "\n",
    "def isolve(expression):\n",
    "    if (isinstance(expression, (sym.polys.polytools.Poly))):\n",
    "        sim = expression.simplify()\n",
    "        rel = ineq_obj.rel_op\n",
    "        sol = solve_poly_inequality(p, rel)\n",
    "    else:\n",
    "        sim = sym.simplify(expression) \n",
    "        sol = sym.solve(sim, x)       \n",
    "    display(Math(\"%s \\;\\; \\Rightarrow %s \\;\\; \\Rightarrow \\;\\; %s\"  %(sym.latex(expression), sym.latex(sim), sym.latex(sol))))\n",
    "\n",
    "def to_poly(exp):\n",
    "    lhs = exp.lhs\n",
    "    p = Poly(lhs, x)\n",
    "    return p\n",
    "\n",
    "exps = [-x**2 + 4*x + 4 > 0, \n",
    "        x**2 + 2*x > 1, \n",
    "        to_poly(-x**2 + 4 < 0)\n",
    "       ]\n",
    "\n",
    "for exp in exps:\n",
    "    isolve(exp)\n"
   ]
  },
  {
   "cell_type": "markdown",
   "id": "01ac982d-ea5d-4374-811c-3ee7802b1c76",
   "metadata": {},
   "source": [
    "# Verify the law of large numbers\n",
    "Your challenge in this task is to verify this law when rolling a six-sided die for the following number of trials: 100, 1000, 10000, 100000, and 500000. Here’s an expected sample run of your complete program:\n",
    "\n",
    "Expected value: 3.5\n",
    "* Trials: 100 Trial average 3.39\n",
    "* Trials: 1000 Trial average 3.576\n",
    "* Trials: 10000 Trial average 3.5054\n",
    "* Trials: 100000 Trial average 3.50201\n",
    "* Trials: 500000 Trial average 3.495568\n",
    "\n",
    "\n",
    "### A note on Jupyter configuations\n",
    "This code works fine in iPython but it'll break default jupyter. You'll probalby need to adjust your configs.\n",
    "\n",
    "\n",
    "```shell\n",
    "# First, find your config paths, and then look for a config file in there. There probably isn't one. \n",
    "(.venv) hurricane:cuny-datascience afraser$ jupyter --paths\n",
    "config:\n",
    "    /Users/afraser/Documents/src/cuny-datascience/.venv/etc/jupyter\n",
    "    /Users/afraser/.jupyter\n",
    "    /usr/local/etc/jupyter\n",
    "    /etc/jupyter\n",
    "\n",
    "# This is how you create a config file.\n",
    "(.venv) hurricane:cuny-datascience afraser$ jupyter lab --generate-config\n",
    "\n",
    "# Now go find and edit your juyputer_lab_config.py file and set these properties. \n",
    "c.ServerApp.max_buffer_size=1073741824\n",
    "c.NotebookApp.max_buffer_size = 10000000\n",
    "c.NotebookApp.iopub_data_rate_limit = 100000\n",
    "\n",
    "## lastly, restart jupyter notebook (not jupyter lab) \n",
    "jupyter notebook ./bridge/math_with_python/mathhomework.ipynb\n",
    "```\n",
    "\n"
   ]
  },
  {
   "cell_type": "code",
   "execution_count": 15,
   "id": "7e43192c-bd72-4b01-8ccd-b49089fd2526",
   "metadata": {
    "tags": []
   },
   "outputs": [
    {
     "name": "stdout",
     "output_type": "stream",
     "text": [
      "Trials: 10  Trail Average: 3.2 Difference: 0.3\n",
      "Trials: 100  Trail Average: 3.23 Difference: 0.27\n",
      "Trials: 1000  Trail Average: 3.507 Difference: -0.007\n",
      "Trials: 10000  Trail Average: 3.5113 Difference: -0.0113\n",
      "Trials: 100000  Trail Average: 3.50137 Difference: -0.00137\n",
      "Trials: 500000  Trail Average: 3.494836 Difference: 0.00516\n",
      "Trials: 1000000  Trail Average: 3.50026 Difference: -0.00026\n"
     ]
    }
   ],
   "source": [
    "import sys\n",
    "import random \n",
    "\n",
    "experiments = [10, 100, 1000, 10000, 100000, 500000, 1000000]\n",
    "me = max(experiments)\n",
    "sys.setrecursionlimit(me*2)\n",
    "\n",
    "class DiceRoller:\n",
    "    def __init__(self):\n",
    "        pass\n",
    "        \n",
    "    def __roll(self, position, dice_face_sum, num_rolls): \n",
    "        if position == 1: \n",
    "            self.write_out(dice_face_sum, num_rolls)\n",
    "        else:\n",
    "            this_roll = random.choice([1, 2, 3, 4, 5, 6]) \n",
    "            self.__roll(position = position-1, dice_face_sum = dice_face_sum + this_roll, num_rolls=num_rolls)\n",
    "            \n",
    "    def roll(self, num_rolls): \n",
    "        self.__roll(position=num_rolls, num_rolls = num_rolls, dice_face_sum=0)\n",
    "        \n",
    "    def write_out(self, dice_face_sum, num_rolls):\n",
    "        avg = dice_face_sum/num_rolls\n",
    "        print(f\"Trials: {num_rolls}  Trail Average: {avg} Difference: {round(3.5 - abs(avg), 5)}\")\n",
    "\n",
    "simulator = DiceRoller()\n",
    "\n",
    "for num_rolls in experiments: \n",
    "    simulator.roll(num_rolls=num_rolls)      \n"
   ]
  },
  {
   "cell_type": "markdown",
   "id": "acdf4c54-b5e9-4697-87ec-477d03839b21",
   "metadata": {},
   "source": [
    "<hr>"
   ]
  },
  {
   "cell_type": "markdown",
   "id": "ddfbb135-0f9c-4dc4-ab81-0f41c6af7ce0",
   "metadata": {},
   "source": [
    "# Implement a Gradient Descent Model\n",
    "Your challenge is to implement a generic program using the gradient descent algorithm to find the minimum value of a single-variable function specified as input by the user. The program should also create a graph of the function and show all the intermediate values it found before find- ing the minimum. (You may want to refer to Figure 7-5 on page 193.)\n",
    "\n",
    "\n",
    "## What is this? \n",
    "A gradient descent is a commonly used machine learning amd neural network algorithm. It optimizes weights and biases to minimize loss. Basically, it finds the best y=wx+b, becuase the best fit happens where the slope is closest to zero.\n",
    "\n",
    "1. IBM, what is a gradient descent: https://www.youtube.com/watch?v=i62czvwDlsw\n",
    "    * Batch type: - runs all data points and then evaulates\n",
    "    * Schotastic: - like recursive, stores only the most recent one in memory \n",
    "    * Mini batch: in between\n",
    "1. Nicholas Renotte - build a gradient descent in 15 minutes: https://www.youtube.com/watch?v=Souzjv6WfrY \n",
    "\n",
    "\n",
    "## How/Why are they used?\n",
    "Don't know!\n",
    "\n"
   ]
  },
  {
   "cell_type": "code",
   "execution_count": 7,
   "id": "62eed8fb-3996-4fac-b767-9a962ae739e8",
   "metadata": {},
   "outputs": [
    {
     "data": {
      "text/plain": [
       "[<matplotlib.lines.Line2D at 0x169b0b220>]"
      ]
     },
     "execution_count": 7,
     "metadata": {},
     "output_type": "execute_result"
    },
    {
     "data": {
      "image/png": "[encoded data removed]",
      "text/plain": [
       "<Figure size 640x480 with 1 Axes>"
      ]
     },
     "metadata": {},
     "output_type": "display_data"
    }
   ],
   "source": [
    "import numpy as np\n",
    "from sympy import Derivative, Symbol, sympify\n",
    "import pandas as pd\n",
    "import matplotlib.pyplot as plt\n",
    "\n",
    "# yhat = wx + b\n",
    "# in ML, we don't exactly know what w and B are, we use gradient descent to find\n",
    "\n",
    "# loss = mean squared error (y -yhat **2) / N(samples) \n",
    " \n",
    "# data we use to train\n",
    "x = np.random.randn(10,1)\n",
    "y = 3*x+np.random.rand() \n",
    "# y = 4*x+5\n",
    "\n",
    "#parameters\n",
    "w = 0.0 # -> after gradient descent, this should be 2\n",
    "b = 0.0 # afer gradient descent, this should be whatever B was in y=mx+b \n",
    "#hyper parameter\n",
    "\n",
    "learning_rate = 0.1 # how fast our algorithm learns\n",
    "\n",
    "def descend(x, y, w, b, learning_rate): \n",
    "    dldw = 0.0\n",
    "    dldb = 0.0 \n",
    "    N = x.shape[0]\n",
    "    #loss=(y - yhat)**2=(y-(wx+b))**2\n",
    "    for xi,yi in zip(x,y):\n",
    "        dldw += -2*xi*(yi-(w*xi+b))\n",
    "        dldb += -2*(yi-(w*xi+b))\n",
    "    # make an update to W param    \n",
    "    w = w - learning_rate*(1/N)*dldw\n",
    "    b = b - learning_rate*(1/N)*dldb\n",
    "    return w,b\n",
    "\n",
    "\n",
    "df = pd.DataFrame(columns=['epoch', 'loss', 'w', 'b'])\n",
    "\n",
    "for epoch in range(20):\n",
    "    w, b = descend(x,y,w,b,learning_rate)\n",
    "    # work out what prediction is\n",
    "    yhat = w*x+b\n",
    "    # calculate loss, mean squared error\n",
    "    loss = np.divide(np.sum((y-yhat)**2, axis=0), x.shape[0])\n",
    "    df = pd.concat([df, pd.DataFrame({'epoch':epoch, 'loss': np.round(loss, 6),  'w':w, 'b':b})], ignore_index=True)\n",
    "\n",
    "plt.plot(df['w'],df['loss'], \"r+\")\n",
    "# plt.plot(l,r, \"r+\")\n",
    "            "
   ]
  },
  {
   "cell_type": "code",
   "execution_count": null,
   "id": "7b481009-8f1a-48d9-88d3-fe0d3cdd3d3a",
   "metadata": {},
   "outputs": [],
   "source": []
  }
 ],
 "metadata": {
  "kernelspec": {
   "display_name": "Python 3 (ipykernel)",
   "language": "python",
   "name": "python3"
  },
  "language_info": {
   "codemirror_mode": {
    "name": "ipython",
    "version": 3
   },
   "file_extension": ".py",
   "mimetype": "text/x-python",
   "name": "python",
   "nbconvert_exporter": "python",
   "pygments_lexer": "ipython3",
   "version": "3.9.16"
  }
 },
 "nbformat": 4,
 "nbformat_minor": 5
}
