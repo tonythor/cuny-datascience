{
 "cells": [
  {
   "cell_type": "code",
   "execution_count": 214,
   "id": "f7a83c44-4776-4fe5-86b6-7826ceaaa7c6",
   "metadata": {
    "tags": []
   },
   "outputs": [
    {
     "data": {
      "text/latex": [
       "$\\displaystyle 3x(4+y) = 3(7)\\times(4 + -2 )= 42$"
      ],
      "text/plain": [
       "<IPython.core.display.Math object>"
      ]
     },
     "metadata": {},
     "output_type": "display_data"
    },
    {
     "data": {
      "text/latex": [
       "$\\displaystyle -y - \\frac{x+3}{x} = --2 - \\frac {7 +3}{5} = 0$"
      ],
      "text/plain": [
       "<IPython.core.display.Math object>"
      ]
     },
     "metadata": {},
     "output_type": "display_data"
    },
    {
     "data": {
      "text/latex": [
       "$\\displaystyle -2^{2}=4$"
      ],
      "text/plain": [
       "<IPython.core.display.Math object>"
      ]
     },
     "metadata": {},
     "output_type": "display_data"
    },
    {
     "data": {
      "text/latex": [
       "$\\displaystyle x^{3/4} \\times 4^y =5^{3/4} \\times 4^{5.1} = 3933.09$"
      ],
      "text/plain": [
       "<IPython.core.display.Math object>"
      ]
     },
     "metadata": {},
     "output_type": "display_data"
    },
    {
     "data": {
      "text/latex": [
       "$\\displaystyle 5^{2}=25$"
      ],
      "text/plain": [
       "<IPython.core.display.Math object>"
      ]
     },
     "metadata": {},
     "output_type": "display_data"
    },
    {
     "data": {
      "text/latex": [
       "$\\displaystyle 10^{x-4}= 10^{5-4} = 10$"
      ],
      "text/plain": [
       "<IPython.core.display.Math object>"
      ]
     },
     "metadata": {},
     "output_type": "display_data"
    },
    {
     "data": {
      "text/latex": [
       "$\\displaystyle |-12| = 12$"
      ],
      "text/plain": [
       "<IPython.core.display.Math object>"
      ]
     },
     "metadata": {},
     "output_type": "display_data"
    }
   ],
   "source": [
    "from IPython.display import display,Math\n",
    "\n",
    "x=7\n",
    "y=-2\n",
    "z=5\n",
    "p=-12\n",
    "\n",
    "# f1=(3*x)*(4+y) # f2=-y-(x+3)/z # print(f\"{f1} {f2}\") == 3𝑥(4+𝑦)=3(7)×(4+−2)=42  \n",
    "\n",
    "display(Math('3x(4+y) = 3(%g)\\\\times(4 + %g )= %g' %(x,y,(3*x)*(4+y))))\n",
    "display(Math('-y - \\\\frac{x+3}{x} = -%g - \\\\frac {%g +3}{%g} = %g' %(y, x, z,-y-(x+3)/z)))\n",
    "display(Math('%g^{2}=%g' %(y,y**2))) \n",
    "\n",
    "x=5\n",
    "y=5.1\n",
    "display(Math('x^{3/4} \\\\times 4^y =%g^{3/4} \\\\times 4^{%g} = %g' %(x,y, x**(3/4) * 4**y )))\n",
    "display(Math('%g^{2}=%g' %(x,x**2))) \n",
    "display(Math('10^{x-4}= 10^{%g-4} = %g' %(x, 10**(x-4)) ))\n",
    "display(Math('|%g| = %g' %(p, abs(p))))\n"
   ]
  },
  {
   "cell_type": "code",
   "execution_count": 177,
   "id": "791671a6-f9f1-494f-9a11-b3869855a029",
   "metadata": {
    "tags": []
   },
   "outputs": [
    {
     "name": "stdout",
     "output_type": "stream",
     "text": [
      "2 to the power of 0 is 1\n",
      "2 to the power of 1 is 2\n",
      "2 to the power of 2 is 4\n",
      "2 to the power of 3 is 8\n",
      "2 to the power of 4 is 16\n",
      "2 to the power of 5 is 32\n",
      "2 to the power of 6 is 64\n",
      "2 to the power of 7 is 128\n",
      "2 to the power of 8 is 256\n",
      "2 to the power of 9 is 512\n"
     ]
    }
   ],
   "source": [
    "for i in range(0,10):\n",
    "    print(f\"2 to the power of %a is %a\" %(i, 2**i))\n",
    "    "
   ]
  },
  {
   "cell_type": "code",
   "execution_count": 229,
   "id": "14b088c3-ea3d-4384-bc94-8d466abd2d26",
   "metadata": {
    "tags": []
   },
   "outputs": [],
   "source": []
  },
  {
   "cell_type": "code",
   "execution_count": null,
   "id": "9e793ee8-ffaa-4acf-8a24-3eda08057d90",
   "metadata": {
    "tags": []
   },
   "outputs": [],
   "source": [
    "\n"
   ]
  },
  {
   "cell_type": "code",
   "execution_count": null,
   "id": "f7bc7525-6f4b-41bb-9909-100b504d84c3",
   "metadata": {},
   "outputs": [],
   "source": [
    "a"
   ]
  }
 ],
 "metadata": {
  "kernelspec": {
   "display_name": "P3_VENV",
   "language": "python",
   "name": "p3_venv"
  },
  "language_info": {
   "codemirror_mode": {
    "name": "ipython",
    "version": 3
   },
   "file_extension": ".py",
   "mimetype": "text/x-python",
   "name": "python",
   "nbconvert_exporter": "python",
   "pygments_lexer": "ipython3",
   "version": "3.10.9"
  }
 },
 "nbformat": 4,
 "nbformat_minor": 5
}
