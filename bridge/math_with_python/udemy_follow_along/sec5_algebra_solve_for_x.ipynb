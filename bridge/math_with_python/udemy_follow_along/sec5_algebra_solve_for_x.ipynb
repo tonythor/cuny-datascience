{
 "cells": [
  {
   "cell_type": "code",
   "execution_count": 1,
   "id": "d8374b0c-c762-47a3-9c56-d41673074a2c",
   "metadata": {
    "tags": []
   },
   "outputs": [],
   "source": [
    "import sympy as sym\n",
    "import numpy as np\n",
    "import math\n",
    "sym.init_printing()\n",
    "from IPython.display import display,Math"
   ]
  },
  {
   "cell_type": "raw",
   "id": "f91e0938-0dc2-40d9-bcb4-48905634b97d",
   "metadata": {},
   "source": []
  },
  {
   "cell_type": "code",
   "execution_count": 53,
   "id": "99a34f44-ff0e-42d3-984f-1ae9161f8904",
   "metadata": {
    "tags": []
   },
   "outputs": [
    {
     "data": {
      "text/latex": [
       "$\\displaystyle 2 x - 5 = 5/2$"
      ],
      "text/plain": [
       "<IPython.core.display.Math object>"
      ]
     },
     "metadata": {},
     "output_type": "display_data"
    }
   ],
   "source": [
    "x = sym.symbols('x')\n",
    "## make equations homogonous, set them equal to zero.!\n",
    "expr = 2*x+4-9import sympy as sym\n",
    "import numpy as np\n",
    "import math\n",
    "sym.init_printing()\n",
    "from IPython.display import display,Math\n",
    "sym.solve(expr)\n",
    "display(Math('%s = %s' %(sym.latex(expr), sym.solve(expr)[0])))\n"
   ]
  },
  {
   "cell_type": "code",
   "execution_count": 20,
   "id": "a755e225-f352-4eca-9a34-e59c04feb954",
   "metadata": {
    "tags": []
   },
   "outputs": [
    {
     "data": {
      "image/png": "[encoded data removed]",
      "text/latex": [
       "$\\displaystyle - x y + \\frac{x}{4} + 5$"
      ],
      "text/plain": [
       "       x    \n",
       "-x⋅y + ─ + 5\n",
       "       4    "
      ]
     },
     "metadata": {},
     "output_type": "display_data"
    }
   ],
   "source": [
    "x,y = sym.symbols('x y')\n",
    "expr=x/4-x*y+5\n",
    "display(expr)"
   ]
  },
  {
   "cell_type": "code",
   "execution_count": 33,
   "id": "75222de1-f8cb-4ba7-a708-47fd0ee52a1f",
   "metadata": {
    "tags": []
   },
   "outputs": [
    {
     "data": {
      "image/png": "[encoded data removed]",
      "text/latex": [
       "$\\displaystyle \\left[ \\left\\{ x : \\frac{20}{4 y - 1}\\right\\}\\right]$"
      ],
      "text/plain": [
       "⎡⎧      20  ⎫⎤\n",
       "⎢⎨x: ───────⎬⎥\n",
       "⎣⎩   4⋅y - 1⎭⎦"
      ]
     },
     "metadata": {},
     "output_type": "display_data"
    },
    {
     "data": {
      "image/png": "[encoded data removed]",
      "text/latex": [
       "$\\displaystyle \\left[ \\frac{20}{4 y - 1}\\right]$"
      ],
      "text/plain": [
       "⎡   20  ⎤\n",
       "⎢───────⎥\n",
       "⎣4⋅y - 1⎦"
      ]
     },
     "metadata": {},
     "output_type": "display_data"
    },
    {
     "data": {
      "image/png": "[encoded data removed]",
      "text/latex": [
       "$\\displaystyle \\left[ \\frac{x + 20}{4 x}\\right]$"
      ],
      "text/plain": [
       "⎡x + 20⎤\n",
       "⎢──────⎥\n",
       "⎣ 4⋅x  ⎦"
      ]
     },
     "metadata": {},
     "output_type": "display_data"
    }
   ],
   "source": [
    "display(sym.solve(expr))\n",
    "display(sym.solve(expr,x))\n",
    "display(sym.solve(expr,y))"
   ]
  },
  {
   "cell_type": "markdown",
   "id": "d255a714-ceac-469e-8bdf-e3dfd76da075",
   "metadata": {},
   "source": [
    "## Exercises"
   ]
  },
  {
   "cell_type": "code",
   "execution_count": 100,
   "id": "2bc953c1-0b91-46a3-a31c-5dcc8df9ceec",
   "metadata": {
    "tags": []
   },
   "outputs": [
    {
     "data": {
      "image/png": "[encoded data removed]",
      "text/latex": [
       "$\\displaystyle 2 q - 2 - \\frac{3}{q}$"
      ],
      "text/plain": [
       "          3\n",
       "2⋅q - 2 - ─\n",
       "          q"
      ]
     },
     "metadata": {},
     "output_type": "display_data"
    },
    {
     "data": {
      "text/latex": [
       "$\\displaystyle q=\\left[ \\frac{1}{2} - \\frac{\\sqrt{7}}{2}, \\  \\frac{1}{2} + \\frac{\\sqrt{7}}{2}\\right]$"
      ],
      "text/plain": [
       "<IPython.core.display.Math object>"
      ]
     },
     "metadata": {},
     "output_type": "display_data"
    }
   ],
   "source": [
    "q = sym.symbols('q') \n",
    "exercise1    = 5*q + (1/q) + 1 - 3*q - (4/q) -3  \n",
    "# exercise1Ans = 3*q + 4/q + 3 - 5*q - 1/q - 1\n",
    "display(exercise1)\n",
    "# display(exercise1Ans)\n",
    "# simplify\n",
    "# display(exercise1Ans.simplify())\n",
    "# display(sym.solve(exercise1)) -> Gets the answers!\n",
    "\n",
    "## -> put the Q in there, it'll solve for just q.\n",
    "display(Math('q='+sym.latex(sym.solve(exercise1,q))))\n",
    "#display(Math('q='+sym.latex(sym.solve(exercise1Ans))))\n"
   ]
  },
  {
   "cell_type": "code",
   "execution_count": 143,
   "id": "70a8e722-4f23-4da3-b327-4e9caea88f5c",
   "metadata": {
    "tags": []
   },
   "outputs": [
    {
     "data": {
      "text/latex": [
       "$\\displaystyle 3 q^{2} + 2 q - \\frac{5}{q} - \\frac{4}{q^{3}}$"
      ],
      "text/plain": [
       "<IPython.core.display.Math object>"
      ]
     },
     "metadata": {},
     "output_type": "display_data"
    },
    {
     "data": {
      "text/latex": [
       "$\\displaystyle 3 q^{2} + 2 q - \\frac{5}{q} - \\frac{4}{q^{3}}$"
      ],
      "text/plain": [
       "<IPython.core.display.Math object>"
      ]
     },
     "metadata": {},
     "output_type": "display_data"
    },
    {
     "data": {
      "text/latex": [
       "$\\displaystyle \\frac{3 q^{5} + 2 q^{4} - 5 q^{2} - 4}{q^{3}}$"
      ],
      "text/plain": [
       "<IPython.core.display.Math object>"
      ]
     },
     "metadata": {},
     "output_type": "display_data"
    }
   ],
   "source": [
    "exercise2 = 2*q + 3*q**2 - (5/q) - (4/q**3) \n",
    "#      eq = 2*q + 3*q**2 - 5/q - 4/q**3\n",
    "display(Math(sym.latex(exercise2)))\n",
    "display(Math(sym.latex(sym.simplify(exercise2))))\n",
    "display(Math(sym.latex(sym.cancel(exercise2)))) ## <- Puts everything into one single term.\n",
    "#display(Math('q='+sym.latex(sym.solve(exercise2,q))))\n"
   ]
  },
  {
   "cell_type": "code",
   "execution_count": 122,
   "id": "19165046-3e8a-4c01-af89-49b8e0428892",
   "metadata": {
    "tags": []
   },
   "outputs": [
    {
     "data": {
      "text/latex": [
       "$\\displaystyle \\frac{\\sqrt{15} q + \\sqrt{3}}{\\sqrt{10} q + \\sqrt{2}}$"
      ],
      "text/plain": [
       "<IPython.core.display.Math object>"
      ]
     },
     "metadata": {},
     "output_type": "display_data"
    },
    {
     "data": {
      "image/png": "[encoded data removed]",
      "text/latex": [
       "$\\displaystyle \\frac{\\sqrt{6}}{2}$"
      ],
      "text/plain": [
       "√6\n",
       "──\n",
       "2 "
      ]
     },
     "metadata": {},
     "output_type": "display_data"
    },
    {
     "data": {
      "image/png": "[encoded data removed]",
      "text/latex": [
       "$\\displaystyle \\left[ \\right]$"
      ],
      "text/plain": [
       "[]"
      ]
     },
     "metadata": {},
     "output_type": "display_data"
    },
    {
     "name": "stdout",
     "output_type": "stream",
     "text": [
      "1.22474487139159\n",
      "1.22474487139159\n"
     ]
    }
   ],
   "source": [
    "exercise3 =  (sym.sqrt(3) + sym.sqrt(15)*q) / (sym.sqrt(2) + sym.sqrt(10)*q)\n",
    "display(Math(sym.latex(exercise3)))\n",
    "display(sym.simplify(exercise3))\n",
    "## -> doesn't work! display(sym.solve(exercise3))\n",
    "print(exercise3.subs(q,10).evalf())\n",
    "print(exercise3.subs(q,11).evalf())\n",
    "\n"
   ]
  },
  {
   "cell_type": "markdown",
   "id": "13ae1420-4836-4892-b96d-2fab85dafeeb",
   "metadata": {},
   "source": [
    "## Expanding Terms\n",
    "* a(b+c) = ab + ac  -> distributive property\n",
    "* (a+b)(c+d) = (ac + ad) + (bc + bd)"
   ]
  },
  {
   "cell_type": "code",
   "execution_count": 142,
   "id": "3f4297cc-42f6-4c6e-9dc0-a29f96dcbfc2",
   "metadata": {
    "tags": []
   },
   "outputs": [
    {
     "data": {
      "image/png": "[encoded data removed]",
      "text/latex": [
       "$\\displaystyle x \\left(4 x + 5\\right)$"
      ],
      "text/plain": [
       "x⋅(4⋅x + 5)"
      ]
     },
     "metadata": {},
     "output_type": "display_data"
    },
    {
     "data": {
      "image/png": "[encoded data removed]",
      "text/latex": [
       "$\\displaystyle 4 x^{2} + 5 x$"
      ],
      "text/plain": [
       "   2      \n",
       "4⋅x  + 5⋅x"
      ]
     },
     "metadata": {},
     "output_type": "display_data"
    },
    {
     "name": "stdout",
     "output_type": "stream",
     "text": [
      "  ------- check this ------- \n"
     ]
    },
    {
     "data": {
      "image/png": "[encoded data removed]",
      "text/latex": [
       "$\\displaystyle \\left(x - 7\\right) \\left(4 x + 5\\right)$"
      ],
      "text/plain": [
       "(x - 7)⋅(4⋅x + 5)"
      ]
     },
     "metadata": {},
     "output_type": "display_data"
    },
    {
     "data": {
      "image/png": "[encoded data removed]",
      "text/latex": [
       "$\\displaystyle 4 x^{2} - 23 x - 35$"
      ],
      "text/plain": [
       "   2            \n",
       "4⋅x  - 23⋅x - 35"
      ]
     },
     "metadata": {},
     "output_type": "display_data"
    },
    {
     "data": {
      "text/latex": [
       "$\\displaystyle x=\\left[ - \\frac{5}{4}, \\  7\\right]$"
      ],
      "text/plain": [
       "<IPython.core.display.Math object>"
      ]
     },
     "metadata": {},
     "output_type": "display_data"
    }
   ],
   "source": [
    "from sympy.abc import x\n",
    "from sympy.abc import y\n",
    "term1 = (4*x + 5) \n",
    "term2 = x\n",
    "term3 = x - 7\n",
    "\n",
    "display(term1*term2)\n",
    "display(sym.expand(term1*term2))\n",
    "\n",
    "print(\"  ------- check this ------- \")\n",
    "display(term1*term3)\n",
    "display(sym.expand(term1*term3))\n",
    "display(Math('x='+sym.latex(sym.solve(term1*term3,x))))"
   ]
  },
  {
   "cell_type": "code",
   "execution_count": 139,
   "id": "5bac4d0f-28cb-427b-b1d9-46d6f0aa27be",
   "metadata": {
    "tags": []
   },
   "outputs": [
    {
     "data": {
      "text/latex": [
       "$\\displaystyle x \\left(- \\frac{5^{x}}{x} + 2 y^{2}\\right)$"
      ],
      "text/plain": [
       "<IPython.core.display.Math object>"
      ]
     },
     "metadata": {},
     "output_type": "display_data"
    },
    {
     "data": {
      "text/latex": [
       "$\\displaystyle - 5^{x} + 2 x y^{2}$"
      ],
      "text/plain": [
       "<IPython.core.display.Math object>"
      ]
     },
     "metadata": {},
     "output_type": "display_data"
    }
   ],
   "source": [
    "from sympy.abc import x\n",
    "from sympy.abc import y\n",
    "\n",
    "expression = x*(2*y**2 - 5**x/x)\n",
    "display(Math(sym.latex(expression)))\n",
    "display(Math(sym.latex(sym.expand(expression))))\n"
   ]
  },
  {
   "cell_type": "code",
   "execution_count": 140,
   "id": "73e2946d-9899-4cce-b1da-f3380fe77ea0",
   "metadata": {
    "tags": []
   },
   "outputs": [
    {
     "name": "stdout",
     "output_type": "stream",
     "text": [
      "Variable       Type        Data/Info\n",
      "------------------------------------\n",
      "Math           type        <class 'IPython.core.display.Math'>\n",
      "display        function    <function display at 0x104463d00>\n",
      "exercise1      Add         2*q - 2 - 3/q\n",
      "exercise1Ans   Add         -2*q + 2 + 3/q\n",
      "exercise2      Add         3*q**2 + 2*q - 5/q - 4/q**3\n",
      "exercise3      Mul         (sqrt(15)*q + sqrt(3))/(sqrt(10)*q + sqrt(2))\n",
      "exercise3Ans   Mul         (sqrt(15)*q + sqrt(3))/(sqrt(10)*q + sqrt(2))\n",
      "expr           Add         2*x - 5\n",
      "expression     Mul         x*(-5**x/x + 2*y**2)\n",
      "np             module      <module 'numpy' from '/op<...>kages/numpy/__init__.py'>\n",
      "q              Symbol      q\n",
      "sym            module      <module 'sympy' from '/op<...>kages/sympy/__init__.py'>\n",
      "term1          Add         4*x + 5\n",
      "term2          Symbol      x\n",
      "term3          Add         x - 7\n",
      "x              Symbol      x\n",
      "y              Symbol      y\n"
     ]
    }
   ],
   "source": [
    "%whos\n"
   ]
  },
  {
   "cell_type": "code",
   "execution_count": 186,
   "id": "2577b131-15ef-4ed9-a60c-e5906eea81f0",
   "metadata": {
    "tags": []
   },
   "outputs": [
    {
     "data": {
      "text/latex": [
       "$\\displaystyle \\left(2 - y\\right) \\left(x + 4\\right)$"
      ],
      "text/plain": [
       "<IPython.core.display.Math object>"
      ]
     },
     "metadata": {},
     "output_type": "display_data"
    },
    {
     "data": {
      "text/latex": [
       "$\\displaystyle - x y + 2 x - 4 y + 8$"
      ],
      "text/plain": [
       "<IPython.core.display.Math object>"
      ]
     },
     "metadata": {},
     "output_type": "display_data"
    },
    {
     "name": "stdout",
     "output_type": "stream",
     "text": [
      "f(x,y) using (0,0):  8\n",
      "f(x,y) using (0,1):  4\n",
      "f(x,y) using (0,2):  0\n",
      "f(x,y) using (1,0):  10\n",
      "f(x,y) using (1,1):  5\n",
      "f(x,y) using (1,2):  0\n",
      "f(x,y) using (2,0):  12\n",
      "f(x,y) using (2,1):  6\n",
      "f(x,y) using (2,2):  0\n"
     ]
    }
   ],
   "source": [
    "x,y=sym.symbols('x y')\n",
    "expression=(4+x)*(2-y)\n",
    "expandedExpression = -x*y + 2*x - 4*y + 8\n",
    "display(Math(sym.latex(expression)))\n",
    "display(Math(sym.latex(sym.expand(expression))))\n",
    "\n",
    "for a in range(0,3):\n",
    "    for b in range(0,3):\n",
    "        print(f'f(x,y) using ({a},{b}):  ' + str(expression.subs({x:a,y:b})))\n",
    "    "
   ]
  },
  {
   "cell_type": "markdown",
   "id": "bf15e917-d53d-4763-95d7-a00a8586b6cd",
   "metadata": {},
   "source": [
    "## Working with matrixes "
   ]
  },
  {
   "cell_type": "code",
   "execution_count": 199,
   "id": "ce0972a4-7f01-4b83-b59e-4d65e17ed416",
   "metadata": {
    "tags": []
   },
   "outputs": [
    {
     "name": "stdout",
     "output_type": "stream",
     "text": [
      "[[1 2]\n",
      " [3 4]]\n"
     ]
    },
    {
     "data": {
      "text/latex": [
       "$\\displaystyle \\left[\\begin{matrix}1 & 2\\\\3 & 4\\end{matrix}\\right]$"
      ],
      "text/plain": [
       "<IPython.core.display.Math object>"
      ]
     },
     "metadata": {},
     "output_type": "display_data"
    },
    {
     "data": {
      "text/latex": [
       "$\\displaystyle \\left[\\begin{matrix}0.0 & 0.0 & 0.0 & 0.0 & 0.0 & 0.0\\\\0.0 & 0.0 & 0.0 & 0.0 & 0.0 & 0.0\\\\0.0 & 0.0 & 0.0 & 3.0 & 0.0 & 0.0\\\\0.0 & 0.0 & 0.0 & 0.0 & 0.0 & 0.0\\end{matrix}\\right]$"
      ],
      "text/plain": [
       "<IPython.core.display.Math object>"
      ]
     },
     "metadata": {},
     "output_type": "display_data"
    }
   ],
   "source": [
    "A = np.array([[1,2],[3,4]])\n",
    "print(A)\n",
    "display(Math(sym.latex(sym.sympify(A))))\n",
    "\n",
    "B = np.zeros([4,6])\n",
    "B[2,3] = 3 \n",
    "\n",
    "display(Math(sym.latex(sym.sympify(B))))\n",
    "\n"
   ]
  },
  {
   "cell_type": "code",
   "execution_count": 248,
   "id": "d33d35bd-3288-4e99-b4d4-906e6ef30ef8",
   "metadata": {
    "tags": []
   },
   "outputs": [
    {
     "data": {
      "text/latex": [
       "$\\displaystyle \\left[\\begin{matrix}8.0 & 4.0 & 0.0\\\\10.0 & 5.0 & 0.0\\\\12.0 & 6.0 & 0.0\\end{matrix}\\right]$"
      ],
      "text/plain": [
       "<IPython.core.display.Math object>"
      ]
     },
     "metadata": {},
     "output_type": "display_data"
    },
    {
     "data": {
      "text/latex": [
       "$\\displaystyle \\left[\\begin{matrix}1 & 2 & 3 & 4 & 5 & 6 & 7 & 8 & 9 & 10\\\\2 & 4 & 6 & 8 & 10 & 12 & 14 & 16 & 18 & 20\\\\3 & 6 & 9 & 12 & 15 & 18 & 21 & 24 & 27 & 30\\\\4 & 8 & 12 & 16 & 20 & 24 & 28 & 32 & 36 & 40\\\\5 & 10 & 15 & 20 & 25 & 30 & 35 & 40 & 45 & 50\\\\6 & 12 & 18 & 24 & 30 & 36 & 42 & 48 & 54 & 60\\\\7 & 14 & 21 & 28 & 35 & 42 & 49 & 56 & 63 & 70\\\\8 & 16 & 24 & 32 & 40 & 48 & 56 & 64 & 72 & 80\\\\9 & 18 & 27 & 36 & 45 & 54 & 63 & 72 & 81 & 90\\\\10 & 20 & 30 & 40 & 50 & 60 & 70 & 80 & 90 & 100\\end{matrix}\\right]$"
      ],
      "text/plain": [
       "<IPython.core.display.Math object>"
      ]
     },
     "metadata": {},
     "output_type": "display_data"
    }
   ],
   "source": [
    "C = np.zeros([3,3])\n",
    "x,y = sym.symbols('x,y')\n",
    "expression=(4+x)*(2-y)\n",
    "\n",
    "for row in range(0,3):\n",
    "    for col in range(0,3):\n",
    "        C[row][col] = expression.subs({x:row,y:col})\n",
    "\n",
    "C   \n",
    "display(Math(sym.latex(sym.sympify(C))))\n",
    "\n",
    "\n",
    "\n",
    "## Make a multiplication table\n",
    "import numpy as np\n",
    "import sympy as sym\n",
    "D = np.zeros(shape=[10,10], dtype=int)\n",
    "x,y = sym.symbols('x,y')\n",
    "fn=x*y\n",
    "\n",
    "for row in range(1,11):\n",
    "    for col in range(1,11):\n",
    "        D[row -1][col-1] = fn.subs({x:row,y:col})\n",
    "        ## could just br row*col     \n",
    "            \n",
    "        \n",
    "display(Math(sym.latex(sym.sympify(D))))\n",
    "\n"
   ]
  },
  {
   "cell_type": "markdown",
   "id": "ff03481b-6a12-48c6-8e98-88617f760849",
   "metadata": {
    "tags": []
   },
   "source": [
    "\n",
    "### the associative, commutative, distributive properties\n",
    "<hr>\n",
    "\n",
    "* associative (aka paranthesis):\n",
    "   * 2(3X4) = (2X3)X4\n",
    "   * 2X12 = 6X4\n",
    "* commutative rule:\n",
    "   * axb = bxa\n",
    "* distributive: \n",
    "   * x(y+z) = xy + xz\n",
    "\n"
   ]
  },
  {
   "cell_type": "code",
   "execution_count": 55,
   "id": "39602aea-d2fd-41f5-8e77-f75c58dcd0e2",
   "metadata": {
    "tags": []
   },
   "outputs": [
    {
     "data": {
      "text/latex": [
       "$\\displaystyle \\left(x + 1\\right) \\left(y - 1\\right)$"
      ],
      "text/plain": [
       "<IPython.core.display.Math object>"
      ]
     },
     "metadata": {},
     "output_type": "display_data"
    },
    {
     "data": {
      "text/latex": [
       "$\\displaystyle x y - x + y - 1$"
      ],
      "text/plain": [
       "<IPython.core.display.Math object>"
      ]
     },
     "metadata": {},
     "output_type": "display_data"
    },
    {
     "data": {
      "text/latex": [
       "$\\displaystyle \\pi r^{2}$"
      ],
      "text/plain": [
       "<IPython.core.display.Math object>"
      ]
     },
     "metadata": {},
     "output_type": "display_data"
    },
    {
     "data": {
      "image/png": "[encoded data removed]",
      "text/latex": [
       "$\\displaystyle 4 \\pi$"
      ],
      "text/plain": [
       "4⋅π"
      ]
     },
     "execution_count": 55,
     "metadata": {},
     "output_type": "execute_result"
    }
   ],
   "source": [
    "r,x,y,pi = sym.symbols('r,x,y,pi')\n",
    "shell = (x+1)*(y-1)\n",
    "display(Math(sym.latex(shell)))\n",
    "display(Math(sym.latex(sym.expand(shell))))\n",
    "\n",
    "area=pi*r**2\n",
    "display(Math(sym.latex(area)))\n",
    "area.subs(r,2)\n",
    "\n"
   ]
  },
  {
   "cell_type": "code",
   "execution_count": 47,
   "id": "690552b8-85a7-4a58-8d4a-a7d10ca876ed",
   "metadata": {
    "tags": []
   },
   "outputs": [
    {
     "data": {
      "text/latex": [
       "$\\displaystyle w \\left(4 - w\\right) + \\frac{w + 1}{w^{2}}$"
      ],
      "text/plain": [
       "<IPython.core.display.Math object>"
      ]
     },
     "metadata": {},
     "output_type": "display_data"
    },
    {
     "data": {
      "text/latex": [
       "$\\displaystyle \\left(y + z\\right) \\left(w \\left(4 - w\\right) + \\frac{w + 1}{w^{2}}\\right)$"
      ],
      "text/plain": [
       "<IPython.core.display.Math object>"
      ]
     },
     "metadata": {},
     "output_type": "display_data"
    },
    {
     "data": {
      "text/latex": [
       "$\\displaystyle \\left(w \\left(4 - w\\right) + \\frac{w + 1}{w^{2}}\\right)^{2} + \\frac{3}{w \\left(4 - w\\right) + \\frac{w + 1}{w^{2}}}$"
      ],
      "text/plain": [
       "<IPython.core.display.Math object>"
      ]
     },
     "metadata": {},
     "output_type": "display_data"
    }
   ],
   "source": [
    "a,b = sym.symbols('a,b')\n",
    "expression1 = a*b \n",
    "expression2 = b*a*2\n",
    "expression1.equals(expression2)\n",
    "\n",
    "w,x,y,z = sym.symbols('w,x,y,z')\n",
    "x=w*(4-w) + 1/w**2*(1+w)\n",
    "\n",
    "f1 = x*(y+z)\n",
    "f2 = (3/x) + x**2\n",
    "\n",
    "display(Math(sym.latex(x)))\n",
    "display(Math(sym.latex(f1)))\n",
    "display(Math(sym.latex(f2)))\n",
    "\n",
    "# display(Math(sym.latex(((f1*f2)))))\n",
    "# display(Math(sym.latex(sym.simplify((f1*f2)))))\n",
    "# ## find out of they're equal\n",
    "# expression1 = f1*f2\n",
    "# expression2 = f2*f1\n",
    "# expression2 == expression1"
   ]
  },
  {
   "cell_type": "markdown",
   "id": "f43c5aaa-c9e8-4dd5-b713-b92c25318883",
   "metadata": {
    "tags": []
   },
   "source": [
    "### working with lists"
   ]
  },
  {
   "cell_type": "code",
   "execution_count": 54,
   "id": "d8ea822b-e2ab-410d-9ac3-d78132c31997",
   "metadata": {
    "tags": []
   },
   "outputs": [
    {
     "name": "stdout",
     "output_type": "stream",
     "text": [
      "------------------\n"
     ]
    },
    {
     "data": {
      "text/latex": [
       "$\\displaystyle x \\left(4 - 6 x\\right) + 3 x \\quad \\Longleftrightarrow \\quad - 6 x^{2} + 7 x$"
      ],
      "text/plain": [
       "<IPython.core.display.Math object>"
      ]
     },
     "metadata": {},
     "output_type": "display_data"
    },
    {
     "name": "stdout",
     "output_type": "stream",
     "text": [
      "------------------\n"
     ]
    },
    {
     "data": {
      "text/latex": [
       "$\\displaystyle - x \\left(\\frac{2}{x} + \\frac{4}{x^{2}}\\right) + x \\left(\\frac{x}{4} + 1\\right) \\quad \\Longleftrightarrow \\quad \\frac{x^{2}}{4} + x - 2 - \\frac{4}{x}$"
      ],
      "text/plain": [
       "<IPython.core.display.Math object>"
      ]
     },
     "metadata": {},
     "output_type": "display_data"
    },
    {
     "name": "stdout",
     "output_type": "stream",
     "text": [
      "------------------\n"
     ]
    },
    {
     "data": {
      "text/latex": [
       "$\\displaystyle \\frac{\\left(x - 3\\right) \\left(x + 3\\right)}{9} \\quad \\Longleftrightarrow \\quad \\frac{x^{2}}{9} - 1$"
      ],
      "text/plain": [
       "<IPython.core.display.Math object>"
      ]
     },
     "metadata": {},
     "output_type": "display_data"
    }
   ],
   "source": [
    "words = ['hello', 'my', 'name']\n",
    "x = sym.symbols('x')\n",
    "e1 = 2*x +x*(4-6*x) +x\n",
    "e2 = -x*(2/x + 4/x**2)+(4+x)/4*x\n",
    "e3=(x+3)*(x-3)*x*(1/(9*x))\n",
    "\n",
    "\n",
    "formulas = [e1,e2,e3]\n",
    "for e in formulas:\n",
    "    print('------------------')\n",
    "    display(Math('%s \\\\quad \\\\Longleftrightarrow \\\\quad %s' %(sym.latex((e)),sym.latex(sym.expand(e)))))\n",
    "    sym.latex(sym.expand(e))\n",
    "    # display(Math(sym.latex((e))))\n",
    "    # display(Math(sym.latex(sym.expand(e))))"
   ]
  },
  {
   "cell_type": "markdown",
   "id": "aedf385b-e522-42a5-925b-e7142012ed48",
   "metadata": {},
   "source": [
    "### Greatest common denominator"
   ]
  },
  {
   "cell_type": "code",
   "execution_count": 300,
   "id": "51440180-1d2d-427a-949d-ea646234e4e4",
   "metadata": {
    "tags": []
   },
   "outputs": [
    {
     "data": {
      "image/png": "[encoded data removed]",
      "text/latex": [
       "$\\displaystyle 10$"
      ],
      "text/plain": [
       "10"
      ]
     },
     "execution_count": 300,
     "metadata": {},
     "output_type": "execute_result"
    }
   ],
   "source": [
    "import math\n",
    "math.gcd(20,30)"
   ]
  },
  {
   "cell_type": "code",
   "execution_count": 49,
   "id": "54dad629-3290-4a05-ad4f-7726688066e1",
   "metadata": {
    "tags": []
   },
   "outputs": [
    {
     "data": {
      "text/latex": [
       "$\\displaystyle \\left[\\begin{array}{}1 & 1 & 1 & 1 & 1 & 1 & 1 & 1 & 1 & 1 & 1 & 1 & 1 & 1 & 0\\\\1 & 2 & 1 & 2 & 1 & 2 & 1 & 2 & 1 & 2 & 1 & 2 & 1 & 2 & 0\\\\1 & 1 & 3 & 1 & 1 & 3 & 1 & 1 & 3 & 1 & 1 & 3 & 1 & 1 & 0\\\\1 & 2 & 1 & 4 & 1 & 2 & 1 & 4 & 1 & 2 & 1 & 4 & 1 & 2 & 0\\\\1 & 1 & 1 & 1 & 5 & 1 & 1 & 1 & 1 & 5 & 1 & 1 & 1 & 1 & 0\\\\1 & 2 & 3 & 2 & 1 & 6 & 1 & 2 & 3 & 2 & 1 & 6 & 1 & 2 & 0\\\\1 & 1 & 1 & 1 & 1 & 1 & 7 & 1 & 1 & 1 & 1 & 1 & 1 & 7 & 0\\\\1 & 2 & 1 & 4 & 1 & 2 & 1 & 8 & 1 & 2 & 1 & 4 & 1 & 2 & 0\\\\1 & 1 & 3 & 1 & 1 & 3 & 1 & 1 & 9 & 1 & 1 & 3 & 1 & 1 & 0\\\\0 & 0 & 0 & 0 & 0 & 0 & 0 & 0 & 0 & 0 & 0 & 0 & 0 & 0 & 0\\end{array}\\right]$"
      ],
      "text/plain": [
       "<IPython.core.display.Math object>"
      ]
     },
     "metadata": {},
     "output_type": "display_data"
    }
   ],
   "source": [
    "import sympy as sym\n",
    "sym.init_printing()\n",
    "from IPython.display import display,Math\n",
    "\n",
    "a,b,c = sym.symbols('a b c')\n",
    "sym.gcd(c*a, c*b) # -> c\n",
    "\n",
    "import numpy as np\n",
    "import sympy as sym\n",
    "E = np.zeros(shape=[10,15], dtype=int)\n",
    "x,y = sym.symbols('x,y')\n",
    "\n",
    "for row in range(1,10):\n",
    "    for col in range(1,15):\n",
    "        E[row -1][col-1] = math.gcd(row,col)\n",
    "        ## could just br row*col     \n",
    "            \n",
    "\n",
    "display(Math(sym.latex(sym.sympify(E))))\n",
    "        \n"
   ]
  },
  {
   "cell_type": "markdown",
   "id": "5fc16385-49ca-4297-9802-c00c60023751",
   "metadata": {},
   "source": [
    "### prime factors - sym.factorint()"
   ]
  },
  {
   "cell_type": "code",
   "execution_count": 50,
   "id": "9d359952-790d-4523-ab25-fd2d82694567",
   "metadata": {},
   "outputs": [
    {
     "data": {
      "image/png": "[encoded data removed]",
      "text/latex": [
       "$\\displaystyle \\left\\{ 3 : 1, \\  7 : 1\\right\\}$"
      ],
      "text/plain": [
       "{3: 1, 7: 1}"
      ]
     },
     "execution_count": 50,
     "metadata": {},
     "output_type": "execute_result"
    }
   ],
   "source": [
    "sym.factorint(21)\n",
    "#18 -> 2  * 3 * 3 \n",
    "#10 -> 2 * 5\n",
    "#21 -> 3 * 7 \n",
    "\n"
   ]
  },
  {
   "cell_type": "code",
   "execution_count": 51,
   "id": "15c148a7-2f9b-4b26-9739-39672b6b5af3",
   "metadata": {
    "tags": []
   },
   "outputs": [
    {
     "name": "stdout",
     "output_type": "stream",
     "text": [
      "{2: 1}\n",
      "{3: 1}\n",
      "{2: 2}\n",
      "{5: 1}\n",
      "{2: 1, 3: 1}\n",
      "{7: 1}\n",
      "{2: 3}\n",
      "{3: 2}\n",
      "{2: 1, 5: 1}\n",
      "{11: 1}\n",
      "{2: 2, 3: 1}\n",
      "{13: 1}\n",
      "{2: 1, 7: 1}\n",
      "{3: 1, 5: 1}\n",
      "{2: 4}\n",
      "{17: 1}\n",
      "{2: 1, 3: 2}\n",
      "{19: 1}\n"
     ]
    }
   ],
   "source": [
    "for i in range(2,20):\n",
    "    print(sym.factorint(i))"
   ]
  },
  {
   "cell_type": "code",
   "execution_count": 14,
   "id": "68f2f937-0af6-4b72-945e-4a4d0dccd0c7",
   "metadata": {
    "tags": []
   },
   "outputs": [
    {
     "data": {
      "text/latex": [
       "$\\displaystyle 2 < x \\wedge x < \\infty$"
      ],
      "text/plain": [
       "<IPython.core.display.Math object>"
      ]
     },
     "metadata": {},
     "output_type": "display_data"
    },
    {
     "data": {
      "text/latex": [
       "$\\displaystyle \\left(-\\infty < x \\wedge x < -3\\right) \\vee \\left(1 < x \\wedge x < \\infty\\right)$"
      ],
      "text/plain": [
       "<IPython.core.display.Math object>"
      ]
     },
     "metadata": {},
     "output_type": "display_data"
    },
    {
     "data": {
      "text/latex": [
       "$\\displaystyle a x > \\frac{b^{2}}{c}$"
      ],
      "text/plain": [
       "<IPython.core.display.Math object>"
      ]
     },
     "metadata": {},
     "output_type": "display_data"
    },
    {
     "data": {
      "image/png": "[encoded data removed]",
      "text/latex": [
       "$\\displaystyle a x > \\frac{b^{2}}{c}$"
      ],
      "text/plain": [
       "       2\n",
       "      b \n",
       "a⋅x > ──\n",
       "      c "
      ]
     },
     "execution_count": 14,
     "metadata": {},
     "output_type": "execute_result"
    }
   ],
   "source": [
    "x = sym.symbols('x')\n",
    "## as long as x > 2, this will be correct! \n",
    "expr = 4*x > 8 # -> 2<𝑥∧𝑥<∞\n",
    "expr2 = (x-1)*(x+3) >0\n",
    "display(Math(sym.latex(sym.solve(expr))))\n",
    "display(Math(sym.latex(sym.solve(expr2))))\n",
    "sym.solve(expr)\n",
    "# f=(x-1)*(x+3)\n",
    "# sym.expand(f)\n",
    "\n",
    "\n",
    "## doens't know enough, so it just baiscally spits itself back out.\n",
    "a,b,c = sym.symbols(\"a,b,c\")\n",
    "ex = a*x > b**2/c\n",
    "display(Math(sym.latex(ex)))\n",
    "sym.solve(ex,x) "
   ]
  },
  {
   "cell_type": "code",
   "execution_count": 18,
   "id": "1a0078e0-2662-4f06-aa9d-b6c7474d0005",
   "metadata": {},
   "outputs": [
    {
     "data": {
      "text/latex": [
       "$\\displaystyle \\frac{4}{3} - \\frac{x}{6} \\leq \\frac{5 x}{4} - \\frac{1}{2}$"
      ],
      "text/plain": [
       "<IPython.core.display.Math object>"
      ]
     },
     "metadata": {},
     "output_type": "display_data"
    },
    {
     "data": {
      "image/png": "[encoded data removed]",
      "text/latex": [
       "$\\displaystyle \\frac{22}{17} \\leq x \\wedge x < \\infty$"
      ],
      "text/plain": [
       "22            \n",
       "── ≤ x ∧ x < ∞\n",
       "17            "
      ]
     },
     "execution_count": 18,
     "metadata": {},
     "output_type": "execute_result"
    }
   ],
   "source": [
    "x = sym.symbols('x')\n",
    "equation=((3*x)/2) + ((4-5*x)/3) <= 2 - ((5*(2-x))/4)\n",
    "display(Math(sym.latex(equation)))\n",
    "sym.solve(equation,x)"
   ]
  },
  {
   "cell_type": "markdown",
   "id": "afda29d8-42ef-40d1-9fd2-c8024188ad0c",
   "metadata": {},
   "source": [
    "## adding and subtracting polynomials \n",
    "\n",
    "law of exponents:  $$y^a * x^a * x^b = y^a * x^{a+b}$$"
   ]
  },
  {
   "cell_type": "code",
   "execution_count": 26,
   "id": "00b4ff6b-0124-4d5e-aec8-6bf3e51d09e8",
   "metadata": {
    "tags": []
   },
   "outputs": [
    {
     "data": {
      "text/latex": [
       "$\\displaystyle \\text{3rd degree poloynomial}: 12.4 x^{3} + 2 x^{2} - 5 x + 3$"
      ],
      "text/plain": [
       "<IPython.core.display.Math object>"
      ]
     },
     "metadata": {},
     "output_type": "display_data"
    }
   ],
   "source": [
    "x = sym.symbols('x')\n",
    "poly=3-5*x+(2)*x**2+12.4*x**3\n",
    "display(Math('\\\\text{3rd degree poloynomial}: ' + sym.latex(poly)))"
   ]
  },
  {
   "cell_type": "code",
   "execution_count": 53,
   "id": "b28f607c-e773-4c84-a924-7ce0976171e6",
   "metadata": {
    "tags": []
   },
   "outputs": [
    {
     "data": {
      "text/latex": [
       "$\\displaystyle 2 x^{3} + x^{2} - x$"
      ],
      "text/plain": [
       "<IPython.core.display.Math object>"
      ]
     },
     "metadata": {},
     "output_type": "display_data"
    },
    {
     "data": {
      "text/latex": [
       "$\\displaystyle - x^{4} + x^{3} - 4 x^{2}$"
      ],
      "text/plain": [
       "<IPython.core.display.Math object>"
      ]
     },
     "metadata": {},
     "output_type": "display_data"
    },
    {
     "data": {
      "text/latex": [
       "$\\displaystyle - x^{4} + 3 x^{3} - 3 x^{2} - x$"
      ],
      "text/plain": [
       "<IPython.core.display.Math object>"
      ]
     },
     "metadata": {},
     "output_type": "display_data"
    },
    {
     "data": {
      "text/latex": [
       "$\\displaystyle x^{4} + x^{3} + 5 x^{2} - x$"
      ],
      "text/plain": [
       "<IPython.core.display.Math object>"
      ]
     },
     "metadata": {},
     "output_type": "display_data"
    },
    {
     "name": "stdout",
     "output_type": "stream",
     "text": [
      "\n"
     ]
    },
    {
     "data": {
      "image/png": "[encoded data removed]",
      "text/latex": [
       "$\\displaystyle \\left[ 2, \\  1, \\  -1\\right]$"
      ],
      "text/plain": [
       "[2, 1, -1]"
      ]
     },
     "execution_count": 53,
     "metadata": {},
     "output_type": "execute_result"
    }
   ],
   "source": [
    "p1 = -x + 2*x**3 + x**2\n",
    "p2 = x**3 - x**4 - 4*x**2\n",
    "display(Math(sym.latex(p1)))\n",
    "display(Math(sym.latex(p2)))\n",
    "display(Math(sym.latex(p1+p2)))\n",
    "display(Math(sym.latex(p1-p2)))\n",
    "print()\n",
    "\n",
    "p1_poly = sym.poly(p1)\n",
    "\n",
    "p1_poly.eval(1)    # -> solve for x if x is 1\n",
    "p1_poly.coeffs()   # -> get coefficients\n"
   ]
  },
  {
   "cell_type": "code",
   "execution_count": 63,
   "id": "5da6c40e-2526-4ef1-baf4-1b5965c18189",
   "metadata": {
    "tags": []
   },
   "outputs": [
    {
     "data": {
      "text/latex": [
       "$\\displaystyle \\left(- 3 x y + x\\right) \\left(x^{5} + 2 x y + y^{2}\\right)$"
      ],
      "text/plain": [
       "<IPython.core.display.Math object>"
      ]
     },
     "metadata": {},
     "output_type": "display_data"
    },
    {
     "data": {
      "text/latex": [
       "$\\displaystyle - 3 x^{6} y + x^{6} - 6 x^{2} y^{2} + 2 x^{2} y - 3 x y^{3} + x y^{2}$"
      ],
      "text/plain": [
       "<IPython.core.display.Math object>"
      ]
     },
     "metadata": {},
     "output_type": "display_data"
    },
    {
     "data": {
      "text/latex": [
       "$\\displaystyle \\operatorname{Poly}{\\left( -3 x^{6}y + x^{6} - 6 x^{2}y^{2} + 2 x^{2}y - 3 xy^{3} + xy^{2}, x, y, domain=\\mathbb{Z} \\right)}$"
      ],
      "text/plain": [
       "<IPython.core.display.Math object>"
      ]
     },
     "metadata": {},
     "output_type": "display_data"
    }
   ],
   "source": [
    "x,y=sym.symbols('x,y')\n",
    "mult1=x**5 + 2*x*y + y**2\n",
    "mult2=x-3*x*y\n",
    "\n",
    "mult1_poly=sym.poly(mult1)\n",
    "mult2_poly=sym.poly(mult2)\n",
    "\n",
    "display(Math(sym.latex((mult1*mult2))))\n",
    "display(Math(sym.latex(sym.expand(mult1*mult2))))\n",
    "display(Math(sym.latex(mult1_poly*mult2_poly)))"
   ]
  },
  {
   "cell_type": "code",
   "execution_count": 75,
   "id": "38543537-8054-46de-a652-289a713d4837",
   "metadata": {
    "tags": []
   },
   "outputs": [
    {
     "data": {
      "text/latex": [
       "$\\displaystyle 4 x^{4} - 3 x^{2} + x y^{2} - 9 y^{3}$"
      ],
      "text/plain": [
       "<IPython.core.display.Math object>"
      ]
     },
     "metadata": {},
     "output_type": "display_data"
    },
    {
     "data": {
      "text/latex": [
       "$\\displaystyle - 9 y^{3} + 5 y^{2} + 2425$"
      ],
      "text/plain": [
       "<IPython.core.display.Math object>"
      ]
     },
     "metadata": {},
     "output_type": "display_data"
    },
    {
     "data": {
      "text/latex": [
       "$\\displaystyle 2517$"
      ],
      "text/plain": [
       "<IPython.core.display.Math object>"
      ]
     },
     "metadata": {},
     "output_type": "display_data"
    },
    {
     "data": {
      "text/latex": [
       "$\\displaystyle - x^{3} + 6 x^{2} y + 0.8 y^{3}$"
      ],
      "text/plain": [
       "<IPython.core.display.Math object>"
      ]
     },
     "metadata": {},
     "output_type": "display_data"
    },
    {
     "data": {
      "text/latex": [
       "$\\displaystyle - 4 x^{7} + 24 x^{6} y + 3 x^{5} + 3.2 x^{4} y^{3} - x^{4} y^{2} - 18 x^{4} y + 15 x^{3} y^{3} - 54 x^{2} y^{4} - 2.4 x^{2} y^{3} + 0.8 x y^{5} - 7.2 y^{6}$"
      ],
      "text/plain": [
       "<IPython.core.display.Math object>"
      ]
     },
     "metadata": {},
     "output_type": "display_data"
    }
   ],
   "source": [
    "fun=4*x**4 - 3*x**2 + x*y**2 - 9 * y **3\n",
    "display(Math(sym.latex(fun)))\n",
    "display(Math(sym.latex((fun.subs(x,5)))))\n",
    "display(Math(sym.latex((fun.subs({x:5,y:-2})))))\n",
    "fun2 = -x**3 + 6*x**2*y + .8*y**3\n",
    "display(Math(sym.latex(fun2)))\n",
    "\n",
    "display(Math(sym.latex(sym.expand(fun*fun2))))"
   ]
  },
  {
   "cell_type": "code",
   "execution_count": 92,
   "id": "34e67abe-1730-4f69-8e84-aaf002afe4fb",
   "metadata": {
    "tags": []
   },
   "outputs": [
    {
     "data": {
      "text/latex": [
       "$\\displaystyle \\frac{4 x^{5} - x}{2 x^{3} - x} === {\\frac{4 x^{5} - x}{2 x^{3} - x}}$"
      ],
      "text/plain": [
       "<IPython.core.display.Math object>"
      ]
     },
     "metadata": {},
     "output_type": "display_data"
    },
    {
     "data": {
      "text/latex": [
       "$\\displaystyle \\frac{4 x^{5} - x}{2 x^{3} - x} === {\\frac{4 x^{5}}{2 x^{3} - x} - \\frac{x}{2 x^{3} - x}}$"
      ],
      "text/plain": [
       "<IPython.core.display.Math object>"
      ]
     },
     "metadata": {},
     "output_type": "display_data"
    },
    {
     "data": {
      "text/latex": [
       "$\\displaystyle \\frac{4 x^{5} - x}{2 x^{3} - x} === {2 x^{2} + 1}$"
      ],
      "text/plain": [
       "<IPython.core.display.Math object>"
      ]
     },
     "metadata": {},
     "output_type": "display_data"
    }
   ],
   "source": [
    "div1 = 4*x**5 -x\n",
    "div2 = 2*x**3 -x\n",
    "display(Math('\\\\frac{%s}{%s} === {%s}' %(sym.latex(div1),sym.latex(div2), sym.latex(div1/div2))))\n",
    "display(Math('\\\\frac{%s}{%s} === {%s}' %(sym.latex(div1),sym.latex(div2), sym.latex(sym.expand(div1/div2)))))\n",
    "\n",
    "\n",
    "display(Math('\\\\frac{%s}{%s} === {%s}' %(sym.latex(div1),sym.latex(div2), sym.latex(sym.simplify(div1/div2)))))\n"
   ]
  },
  {
   "cell_type": "code",
   "execution_count": 122,
   "id": "db8b69fc-95ac-4aad-86ab-4c1f3a59da73",
   "metadata": {
    "tags": []
   },
   "outputs": [
    {
     "data": {
      "text/latex": [
       "$\\displaystyle \\left(x + 1\\right) \\left(x + 3\\right)$"
      ],
      "text/plain": [
       "<IPython.core.display.Math object>"
      ]
     },
     "metadata": {},
     "output_type": "display_data"
    },
    {
     "data": {
      "text/latex": [
       "$\\displaystyle x^{2} + 4 x + 3$"
      ],
      "text/plain": [
       "<IPython.core.display.Math object>"
      ]
     },
     "metadata": {},
     "output_type": "display_data"
    },
    {
     "name": "stdout",
     "output_type": "stream",
     "text": [
      " *** \n"
     ]
    },
    {
     "data": {
      "text/latex": [
       "$\\displaystyle \\left(x + 1\\right) \\left(x + 3\\right)$"
      ],
      "text/plain": [
       "<IPython.core.display.Math object>"
      ]
     },
     "metadata": {},
     "output_type": "display_data"
    },
    {
     "data": {
      "text/latex": [
       "$\\displaystyle x^{2} + 4 x + 3$"
      ],
      "text/plain": [
       "<IPython.core.display.Math object>"
      ]
     },
     "metadata": {},
     "output_type": "display_data"
    }
   ],
   "source": [
    "factorme = x**2 + 4*x + 3\n",
    "factored = (𝑥+1)*(𝑥+3)\n",
    "display(Math(sym.latex(factored)))\n",
    "display(Math(sym.latex(factorme)))\n",
    "print(\" *** \")\n",
    "display(Math(sym.latex(sym.factor(factorme))))\n",
    "display(Math(sym.latex(sym.expand(factored))))"
   ]
  },
  {
   "cell_type": "code",
   "execution_count": 123,
   "id": "54e9e248-1918-402e-9d83-1a143e4176ec",
   "metadata": {
    "tags": []
   },
   "outputs": [],
   "source": [
    "y = sym.symbols('y')\n",
    "yspression = 2*y**2 - 1\n"
   ]
  },
  {
   "cell_type": "code",
   "execution_count": 124,
   "id": "12fe71bf-3187-4f1c-b190-cf4438d93d90",
   "metadata": {
    "tags": []
   },
   "outputs": [
    {
     "data": {
      "text/latex": [
       "$\\displaystyle 2 y^{2} - 1$"
      ],
      "text/plain": [
       "<IPython.core.display.Math object>"
      ]
     },
     "metadata": {},
     "output_type": "display_data"
    }
   ],
   "source": [
    "display(Math(sym.latex(sym.factor(yspression))))"
   ]
  },
  {
   "cell_type": "code",
   "execution_count": null,
   "id": "b15d5cbe-7076-4bc1-bcce-4b707b514a22",
   "metadata": {},
   "outputs": [],
   "source": []
  }
 ],
 "metadata": {
  "kernelspec": {
   "display_name": "P3_VENV",
   "language": "python",
   "name": "p3_venv"
  },
  "language_info": {
   "codemirror_mode": {
    "name": "ipython",
    "version": 3
   },
   "file_extension": ".py",
   "mimetype": "text/x-python",
   "name": "python",
   "nbconvert_exporter": "python",
   "pygments_lexer": "ipython3",
   "version": "3.10.9"
  }
 },
 "nbformat": 4,
 "nbformat_minor": 5
}
