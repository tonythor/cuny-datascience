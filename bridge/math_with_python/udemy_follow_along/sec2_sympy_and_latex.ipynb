{
 "cells": [
  {
   "cell_type": "code",
   "execution_count": 5,
   "id": "32340f4f-eeae-452f-9680-44eccf292913",
   "metadata": {
    "tags": []
   },
   "outputs": [],
   "source": [
    "import sympy as sym\n",
    "import numpy as np\n",
    "sym.init_printing()\n",
    "from IPython.display import display,Math"
   ]
  },
  {
   "cell_type": "markdown",
   "id": "a72b6900-7565-429d-b179-35ba50db22cf",
   "metadata": {},
   "source": [
    "# More LaTeX, more displays.\n",
    "You can insert latex in readme files!\n",
    "$$ \\text{biznatches here is an answer:} \\sqrt{\\sigma = \\mu \\times \\sqrt{5}} $$\n"
   ]
  },
  {
   "cell_type": "code",
   "execution_count": 19,
   "id": "b60d44a6-e9b0-423f-8433-82a5200b71ec",
   "metadata": {},
   "outputs": [
    {
     "data": {
      "image/png": "[encoded data removed]",
      "text/latex": [
       "$\\displaystyle x^{2} y$"
      ],
      "text/plain": [
       " 2  \n",
       "x ⋅y"
      ]
     },
     "metadata": {},
     "output_type": "display_data"
    },
    {
     "data": {
      "image/png": "[encoded data removed]",
      "text/latex": [
       "$\\displaystyle 1.4142135623731$"
      ],
      "text/plain": [
       "1.4142135623730951"
      ]
     },
     "metadata": {},
     "output_type": "display_data"
    },
    {
     "data": {
      "image/png": "[encoded data removed]",
      "text/latex": [
       "$\\displaystyle \\sqrt{2}$"
      ],
      "text/plain": [
       "√2"
      ]
     },
     "metadata": {},
     "output_type": "display_data"
    },
    {
     "data": {
      "text/plain": [
       "'sqrt(x)sqrt(x)'"
      ]
     },
     "metadata": {},
     "output_type": "display_data"
    },
    {
     "data": {
      "image/png": "[encoded data removed]",
      "text/latex": [
       "$\\displaystyle 2 \\sqrt{x}$"
      ],
      "text/plain": [
       "2⋅√x"
      ]
     },
     "metadata": {},
     "output_type": "display_data"
    },
    {
     "data": {
      "text/latex": [
       "$\\displaystyle \\text{biznatches here is an answer:} \\sqrt{\\sigma = \\mu \\times \\sqrt{5}}$"
      ],
      "text/plain": [
       "<IPython.core.display.Math object>"
      ]
     },
     "metadata": {},
     "output_type": "display_data"
    },
    {
     "data": {
      "text/latex": [
       "$\\displaystyle m_5 \\  m^5 m_{55}$"
      ],
      "text/plain": [
       "<IPython.core.display.Math object>"
      ]
     },
     "metadata": {},
     "output_type": "display_data"
    },
    {
     "data": {
      "text/latex": [
       "$\\displaystyle 4x + 5y - 8z = 17$"
      ],
      "text/plain": [
       "<IPython.core.display.Math object>"
      ]
     },
     "metadata": {},
     "output_type": "display_data"
    },
    {
     "data": {
      "text/latex": [
       "$\\displaystyle \\sin(2\\pi ft + \\theta)$"
      ],
      "text/plain": [
       "<IPython.core.display.Math object>"
      ]
     },
     "metadata": {},
     "output_type": "display_data"
    },
    {
     "data": {
      "text/latex": [
       "$\\displaystyle e=mc^2$"
      ],
      "text/plain": [
       "<IPython.core.display.Math object>"
      ]
     },
     "metadata": {},
     "output_type": "display_data"
    },
    {
     "data": {
      "text/latex": [
       "$\\displaystyle \\frac{4+5x^2}{(1+x)(1-x)}$"
      ],
      "text/plain": [
       "<IPython.core.display.Math object>"
      ]
     },
     "metadata": {},
     "output_type": "display_data"
    }
   ],
   "source": [
    "x,y = sym.symbols('x,y')\n",
    "display(x**2*y)\n",
    "display(np.sqrt(2))\n",
    "display(sym.sqrt(2))\n",
    "display(f\"{sym.sqrt(x)}{sym.sqrt(x)}\")\n",
    "display(sym.sqrt(4*x)) \n",
    "display(Math('\\\\text{biznatches here is an answer:} \\\\sqrt{\\\\sigma = \\\\mu \\\\times \\\\sqrt{5}}'))\n",
    "display(Math('m_5 \\  m^5 m_{55}'))\n",
    "display(Math('4x + 5y - 8z = 17'))\n",
    "display(Math('\\\\sin(2\\\\pi ft + \\\\theta)')) \n",
    "display(Math('e=mc^2'))\n",
    "display(Math('\\\\frac{4+5x^2}{(1+x)(1-x)}'))"
   ]
  },
  {
   "cell_type": "code",
   "execution_count": 32,
   "id": "a9ce95a0-9780-49d7-8664-b7450ffa0418",
   "metadata": {},
   "outputs": [
    {
     "data": {
      "image/png": "[encoded data removed]",
      "text/latex": [
       "$\\displaystyle e^{\\frac{\\left(- \\alpha + \\mu\\right)^{2}}{2 \\sigma^{2}}}$"
      ],
      "text/plain": [
       "         2\n",
       " (-α + μ) \n",
       " ─────────\n",
       "       2  \n",
       "    2⋅σ   \n",
       "ℯ         "
      ]
     },
     "metadata": {},
     "output_type": "display_data"
    },
    {
     "data": {
      "image/png": "[encoded data removed]",
      "text/latex": [
       "$\\displaystyle \\pi r^{2}$"
      ],
      "text/plain": [
       "   2\n",
       "π⋅r "
      ]
     },
     "metadata": {},
     "output_type": "display_data"
    }
   ],
   "source": [
    "import sympy as sym\n",
    "import numpy as np\n",
    "sym.init_printing()\n",
    "from IPython.display import display,Math\n",
    "\n",
    "## Note how sympy automagically translates greek symbols below.\n",
    "mu,alpha,sigma = sym.symbols(\"mu,alpha,sigma\")\n",
    "expr = sym.exp((mu - alpha)**2 / (2*sigma**2))\n",
    "\n",
    "## This is from sym.init_printing!\n",
    "display(expr)\n",
    "pi,r = sym.symbols(\"pi,r\")\n",
    "exp2 = sym.pi*r**2\n",
    "display(exp2)\n"
   ]
  },
  {
   "cell_type": "code",
   "execution_count": 47,
   "id": "406f1ece-530c-4a70-964f-4a80b5aeba7c",
   "metadata": {
    "tags": []
   },
   "outputs": [
    {
     "data": {
      "image/png": "[encoded data removed]",
      "text/latex": [
       "$\\displaystyle 2 x + y + 4$"
      ],
      "text/plain": [
       "2⋅x + y + 4"
      ]
     },
     "metadata": {},
     "output_type": "display_data"
    },
    {
     "name": "stdout",
     "output_type": "stream",
     "text": [
      "16\n",
      "8\n"
     ]
    }
   ],
   "source": [
    "## Jusing just sympi\n",
    "x,y = sym.symbols('x,y') \n",
    "\n",
    "## this works becasue below x is defined above.\n",
    "exp3 = 2*x+4+y\n",
    "display(exp3)\n",
    "print(exp3.subs(x,2).subs(y,8))\n",
    "print(exp3.subs({x:1,y:2}))"
   ]
  },
  {
   "cell_type": "code",
   "execution_count": 57,
   "id": "0145b45f-32c2-48bd-bfc8-9de21cce3d6b",
   "metadata": {
    "tags": []
   },
   "outputs": [
    {
     "data": {
      "text/latex": [
       "$\\displaystyle \\frac{3}{\\pi}$"
      ],
      "text/plain": [
       "<IPython.core.display.Math object>"
      ]
     },
     "metadata": {},
     "output_type": "display_data"
    }
   ],
   "source": [
    "# pi defined already, plus it's a greek letter and sympy knows what Pi really is, and how to display.\n",
    "exp4=3/pi\n",
    "# sym.latex(exp4) # --> '\\\\frac{3}{\\\\pi}'\n",
    "display(Math(sym.latex(exp4)))\n"
   ]
  },
  {
   "cell_type": "code",
   "execution_count": 67,
   "id": "902c7dd1-6d8e-40a7-a281-5fb2ba2a9c1f",
   "metadata": {
    "tags": []
   },
   "outputs": [
    {
     "data": {
      "text/latex": [
       "$\\displaystyle \\frac{3}{4}^{ths}$"
      ],
      "text/plain": [
       "<IPython.core.display.Math object>"
      ]
     },
     "metadata": {},
     "output_type": "display_data"
    }
   ],
   "source": [
    "# say we're trying to get latex for 3/4ths\n",
    "sym.latex(3/4) ## -> makes 0.75\n",
    "sym.latex(sym.sympify('3/4')) ## -> '\\\\frac{3}{4}^{ths}'\n",
    "display(Math('\\\\frac{3}{4}^{ths}'))\n",
    "\n"
   ]
  },
  {
   "cell_type": "code",
   "execution_count": 89,
   "id": "e7874dab-312b-4df0-877b-9ba57163cefc",
   "metadata": {
    "tags": []
   },
   "outputs": [
    {
     "data": {
      "text/latex": [
       "$\\displaystyle -2^2 + 4 = 8$"
      ],
      "text/plain": [
       "<IPython.core.display.Math object>"
      ]
     },
     "metadata": {},
     "output_type": "display_data"
    },
    {
     "data": {
      "text/latex": [
       "$\\displaystyle -1^2 + 4 = 5$"
      ],
      "text/plain": [
       "<IPython.core.display.Math object>"
      ]
     },
     "metadata": {},
     "output_type": "display_data"
    },
    {
     "data": {
      "text/latex": [
       "$\\displaystyle 0^2 + 4 = 4$"
      ],
      "text/plain": [
       "<IPython.core.display.Math object>"
      ]
     },
     "metadata": {},
     "output_type": "display_data"
    },
    {
     "data": {
      "text/latex": [
       "$\\displaystyle 1^2 + 4 = 5$"
      ],
      "text/plain": [
       "<IPython.core.display.Math object>"
      ]
     },
     "metadata": {},
     "output_type": "display_data"
    },
    {
     "data": {
      "text/latex": [
       "$\\displaystyle 2^2 + 4 = 8$"
      ],
      "text/plain": [
       "<IPython.core.display.Math object>"
      ]
     },
     "metadata": {},
     "output_type": "display_data"
    }
   ],
   "source": [
    "x= sym.symbols('x') \n",
    "expr5=x**2+4\n",
    "\n",
    "for v in range(-2,3):\n",
    "    solved = expr5.subs(x,v)    \n",
    "    display(Math(f'{v}^2 + 4 = {solved}'))\n",
    "    \n",
    "            \n",
    "\n"
   ]
  },
  {
   "cell_type": "code",
   "execution_count": 94,
   "id": "02f9b946-88cc-4f76-a2bc-f014b4cbbb39",
   "metadata": {
    "tags": []
   },
   "outputs": [
    {
     "data": {
      "image/png": "[encoded data removed]",
      "text/latex": [
       "$\\displaystyle x^{y} x^{z}$"
      ],
      "text/plain": [
       " y  z\n",
       "x ⋅x "
      ]
     },
     "metadata": {},
     "output_type": "display_data"
    },
    {
     "data": {
      "image/png": "[encoded data removed]",
      "text/latex": [
       "$\\displaystyle x^{y + z}$"
      ],
      "text/plain": [
       " y + z\n",
       "x     "
      ]
     },
     "metadata": {},
     "output_type": "display_data"
    }
   ],
   "source": [
    "# x^2 + x^3 = x^5\n",
    "\n",
    "x,y,z = sym.symbols('x,y,z') \n",
    "ex6=x**y * x**z\n",
    "display(ex6)\n",
    "display(sym.simplify(ex6)) #<<-- wow. this simplies your fractions for you! \n"
   ]
  },
  {
   "cell_type": "code",
   "execution_count": 105,
   "id": "108283bd-de28-4c33-aa88-7c5364ee1863",
   "metadata": {
    "tags": []
   },
   "outputs": [
    {
     "data": {
      "text/latex": [
       "$\\displaystyle x^{y} x^{z}\\rightarrow  x^{y + z}$"
      ],
      "text/plain": [
       "<IPython.core.display.Math object>"
      ]
     },
     "metadata": {},
     "output_type": "display_data"
    },
    {
     "data": {
      "text/latex": [
       "$\\displaystyle x^{y} x^{- z}\\rightarrow  x^{y - z}$"
      ],
      "text/plain": [
       "<IPython.core.display.Math object>"
      ]
     },
     "metadata": {},
     "output_type": "display_data"
    },
    {
     "data": {
      "text/latex": [
       "$\\displaystyle x^{y} y^{z}\\rightarrow  x^{y} y^{z}$"
      ],
      "text/plain": [
       "<IPython.core.display.Math object>"
      ]
     },
     "metadata": {},
     "output_type": "display_data"
    }
   ],
   "source": [
    "ex1 = x**y * x**z\n",
    "display(Math('%s\\\\rightarrow  %s' %(sym.latex(ex1), sym.latex(sym.simplify(ex1)))))\n",
    "       \n",
    "\n",
    "ex2 = x**y / x**z\n",
    "display(Math('%s\\\\rightarrow  %s' %(sym.latex(ex2), sym.latex(sym.simplify(ex2)))))\n",
    "\n",
    "\n",
    "ex3 = x**y * y**z\n",
    "display(Math('%s\\\\rightarrow  %s' %(sym.latex(ex3), sym.latex(sym.simplify(ex3)))))\n"
   ]
  },
  {
   "cell_type": "code",
   "execution_count": 110,
   "id": "588a56ce-568d-469d-893d-bab1a2b39218",
   "metadata": {
    "tags": []
   },
   "outputs": [
    {
     "data": {
      "image/png": "[encoded data removed]",
      "text/latex": [
       "$\\displaystyle x^{y} x^{z} = x^{y + z}$"
      ],
      "text/plain": [
       " y  z    y + z\n",
       "x ⋅x  = x     "
      ]
     },
     "execution_count": 110,
     "metadata": {},
     "output_type": "execute_result"
    }
   ],
   "source": [
    "sym.Eq(x**y * x**z, x**(y+z))"
   ]
  },
  {
   "cell_type": "code",
   "execution_count": 114,
   "id": "14cd5a1b-b0b4-48a0-ac24-e530485d4ba8",
   "metadata": {
    "tags": []
   },
   "outputs": [
    {
     "ename": "TypeError",
     "evalue": "Equality.__new__() missing 1 required positional argument: 'rhs'",
     "output_type": "error",
     "traceback": [
      "\u001b[0;31m---------------------------------------------------------------------------\u001b[0m",
      "\u001b[0;31mTypeError\u001b[0m                                 Traceback (most recent call last)",
      "Cell \u001b[0;32mIn[114], line 3\u001b[0m\n\u001b[1;32m      1\u001b[0m lhs \u001b[38;5;241m=\u001b[39m x\u001b[38;5;241m*\u001b[39m\u001b[38;5;241m*\u001b[39my \u001b[38;5;241m*\u001b[39m x\u001b[38;5;241m*\u001b[39m\u001b[38;5;241m*\u001b[39mz\n\u001b[1;32m      2\u001b[0m rhs \u001b[38;5;241m=\u001b[39m x\u001b[38;5;241m*\u001b[39m\u001b[38;5;241m*\u001b[39m(y\u001b[38;5;241m+\u001b[39mz)\n\u001b[0;32m----> 3\u001b[0m \u001b[43msym\u001b[49m\u001b[38;5;241;43m.\u001b[39;49m\u001b[43mEq\u001b[49m\u001b[43m(\u001b[49m\u001b[43msym\u001b[49m\u001b[38;5;241;43m.\u001b[39;49m\u001b[43mexpand\u001b[49m\u001b[43m(\u001b[49m\u001b[43mlhs\u001b[49m\u001b[43m,\u001b[49m\u001b[43m \u001b[49m\u001b[43mrhs\u001b[49m\u001b[43m)\u001b[49m\u001b[43m)\u001b[49m\n",
      "\u001b[0;31mTypeError\u001b[0m: Equality.__new__() missing 1 required positional argument: 'rhs'"
     ]
    }
   ],
   "source": [
    "lhs = x**y * x**z\n",
    "rhs = x**(y+z)\n",
    "sym.Eq(sym.expand(lhs, rhs))"
   ]
  },
  {
   "cell_type": "code",
   "execution_count": null,
   "id": "b9d1ff9f-d4ab-47ef-873f-d949b9f3de0f",
   "metadata": {},
   "outputs": [],
   "source": []
  }
 ],
 "metadata": {
  "kernelspec": {
   "display_name": "P3_VENV",
   "language": "python",
   "name": "p3_venv"
  },
  "language_info": {
   "codemirror_mode": {
    "name": "ipython",
    "version": 3
   },
   "file_extension": ".py",
   "mimetype": "text/x-python",
   "name": "python",
   "nbconvert_exporter": "python",
   "pygments_lexer": "ipython3",
   "version": "3.10.9"
  }
 },
 "nbformat": 4,
 "nbformat_minor": 5
}
