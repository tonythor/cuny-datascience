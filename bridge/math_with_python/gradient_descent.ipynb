{
 "cells": [
  {
   "cell_type": "code",
   "execution_count": 100,
   "id": "ccf9fa08-8ed6-4df2-99e1-7e63dbd5259e",
   "metadata": {},
   "outputs": [
    {
     "data": {
      "text/plain": [
       "[<matplotlib.lines.Line2D at 0x2902d9940>]"
      ]
     },
     "execution_count": 100,
     "metadata": {},
     "output_type": "execute_result"
    },
    {
     "data": {
      "image/png": "[encoded data removed]",
      "text/plain": [
       "<Figure size 640x480 with 1 Axes>"
      ]
     },
     "metadata": {},
     "output_type": "display_data"
    }
   ],
   "source": [
    "import numpy as np\n",
    "from sympy import Derivative, Symbol, sympify\n",
    "import pandas as pd\n",
    "import matplotlib.pyplot as plt\n",
    "\n",
    "# yhat = wx + b\n",
    "# in ML, we don't exactly know what w and B are, we use gradient descent to find\n",
    "\n",
    "# loss = mean squared error (y -yhat **2) / N(samples) \n",
    " \n",
    "# data we use to train\n",
    "x = np.random.randn(10,1)\n",
    "y = 3*x+np.random.rand() \n",
    "# y = 4*x+5\n",
    "\n",
    "#parameters\n",
    "w = 0.0 # -> after gradient descent, this should be 2\n",
    "b = 0.0 # afer gradient descent, this should be whatever B was in y=mx+b \n",
    "#hyper parameter\n",
    "\n",
    "learning_rate = 0.1 # how fast our algorithm learns\n",
    "\n",
    "def descend(x, y, w, b, learning_rate): \n",
    "    dldw = 0.0\n",
    "    dldb = 0.0 \n",
    "    N = x.shape[0]\n",
    "    #loss=(y - yhat)**2=(y-(wx+b))**2\n",
    "    for xi,yi in zip(x,y):\n",
    "        dldw += -2*xi*(yi-(w*xi+b))\n",
    "        dldb += -2*(yi-(w*xi+b))\n",
    "    # make an update to W param    \n",
    "    w = w - learning_rate*(1/N)*dldw\n",
    "    b = b - learning_rate*(1/N)*dldb\n",
    "    return w,b\n",
    "\n",
    "\n",
    "df = pd.DataFrame(columns=['epoch', 'loss', 'w', 'b'])\n",
    "\n",
    "for epoch in range(20):\n",
    "    w, b = descend(x,y,w,b,learning_rate)\n",
    "    # work out what prediction is\n",
    "    yhat = w*x+b\n",
    "    # calculate loss, mean squared error\n",
    "    loss = np.divide(np.sum((y-yhat)**2, axis=0), x.shape[0])\n",
    "    df = pd.concat([df, pd.DataFrame({'epoch':epoch, 'loss': np.round(loss, 6),  'w':w, 'b':b})], ignore_index=True)\n",
    "\n",
    "plt.plot(df['w'],df['loss'], \"r+\")\n",
    "# plt.plot(l,r, \"r+\")\n",
    "            \n",
    "     \n",
    "\n"
   ]
  },
  {
   "cell_type": "code",
   "execution_count": null,
   "id": "85a9dcdc-ef3d-419d-8b6c-c029a2f7380d",
   "metadata": {},
   "outputs": [],
   "source": []
  },
  {
   "cell_type": "code",
   "execution_count": null,
   "id": "f01a7193-c47c-4fcc-b35a-b7ccbfd352bf",
   "metadata": {},
   "outputs": [],
   "source": []
  }
 ],
 "metadata": {
  "kernelspec": {
   "display_name": "Python 3 (ipykernel)",
   "language": "python",
   "name": "python3"
  },
  "language_info": {
   "codemirror_mode": {
    "name": "ipython",
    "version": 3
   },
   "file_extension": ".py",
   "mimetype": "text/x-python",
   "name": "python",
   "nbconvert_exporter": "python",
   "pygments_lexer": "ipython3",
   "version": "3.9.16"
  }
 },
 "nbformat": 4,
 "nbformat_minor": 5
}
